{
 "cells": [
  {
   "cell_type": "markdown",
   "id": "cb07a0a5-fd84-4104-a823-9a4aea442337",
   "metadata": {},
   "source": [
    "# **PYTHON PROGRAM**"
   ]
  },
  {
   "cell_type": "markdown",
   "id": "bf217570-6997-418c-9b70-19df168c6b69",
   "metadata": {},
   "source": [
    "# Tuple"
   ]
  },
  {
   "cell_type": "code",
   "execution_count": 1,
   "id": "f05d833b-2534-4603-81ff-beab6981aa2f",
   "metadata": {},
   "outputs": [
    {
     "name": "stdout",
     "output_type": "stream",
     "text": [
      "(1, 2, 3, 3.14, 'galaxy', 'A')\n"
     ]
    }
   ],
   "source": [
    "my_tuple=(1,2,3,3.14,\"galaxy\",'A')\n",
    "print(my_tuple)"
   ]
  },
  {
   "cell_type": "code",
   "execution_count": 7,
   "id": "05de5d7e-b5da-43b7-96f3-0f3715141d68",
   "metadata": {},
   "outputs": [
    {
     "name": "stdout",
     "output_type": "stream",
     "text": [
      "(23, 22, 24, 45)\n",
      "<class 'tuple'>\n"
     ]
    }
   ],
   "source": [
    "# creating tuples using tuple() function \n",
    "my_tuple=tuple([23,22,24,45])\n",
    "print(my_tuple)\n",
    "print(type(my_tuple))"
   ]
  },
  {
   "cell_type": "code",
   "execution_count": 8,
   "id": "e7d0bc2b-3e59-45dc-b46e-a85cb416b969",
   "metadata": {},
   "outputs": [
    {
     "name": "stdout",
     "output_type": "stream",
     "text": [
      "<class 'int'>\n",
      "<class 'tuple'>\n"
     ]
    }
   ],
   "source": [
    "# creating single element tuple\n",
    "my_tuple=(10)\n",
    "print(type(my_tuple))\n",
    "my_tuple1=(10,)\n",
    "print(type(my_tuple1))"
   ]
  },
  {
   "cell_type": "code",
   "execution_count": 10,
   "id": "be6067f0-aec6-4c37-85a6-bb2369c7fcb1",
   "metadata": {},
   "outputs": [
    {
     "name": "stdout",
     "output_type": "stream",
     "text": [
      "(77, 87, 'galaxy')\n",
      "(12, 45, 77, 87, 'galaxy', 'tamil', 55.77, (4+5j))\n",
      "(12, 45, 77, 87, 'galaxy', 'tamil', 55.77, (4+5j))\n"
     ]
    }
   ],
   "source": [
    "# accessing values in a tuple \n",
    "my_tuple=(12,45,77,87,\"galaxy\",\"tamil\",55.77,4+5j)\n",
    "print(my_tuple[2:5])\n",
    "print(my_tuple)\n",
    "print(my_tuple[:])\n"
   ]
  },
  {
   "cell_type": "code",
   "execution_count": 11,
   "id": "22e9c7ca-bf7a-4fff-9fe8-a03daeb8fe4a",
   "metadata": {},
   "outputs": [
    {
     "name": "stdout",
     "output_type": "stream",
     "text": [
      "(1, 2, 3, 4, 5, 4, 5, 6, 7, 8)\n"
     ]
    }
   ],
   "source": [
    "# update and delete tuple \n",
    "my_tup1=(1,2,3,4,5)\n",
    "my_tup2=(4,5,6,7,8)\n",
    "tup=my_tup1+my_tup2\n",
    "print(tup)"
   ]
  },
  {
   "cell_type": "code",
   "execution_count": 12,
   "id": "8313ff98-0a84-4c51-808b-e18873317705",
   "metadata": {},
   "outputs": [
    {
     "name": "stdout",
     "output_type": "stream",
     "text": [
      "the element of tup1 is (2, 3, 4, 5, 6)\n"
     ]
    }
   ],
   "source": [
    "tup1=(2,3,4,5,6)\n",
    "print(\"the element of tup1 is\",tup1)\n",
    "del tup1"
   ]
  },
  {
   "cell_type": "code",
   "execution_count": 13,
   "id": "fc2db0fb-128f-408b-9ce8-266fd6dc570e",
   "metadata": {},
   "outputs": [
    {
     "ename": "NameError",
     "evalue": "name 'tup1' is not defined",
     "output_type": "error",
     "traceback": [
      "\u001b[1;31m---------------------------------------------------------------------------\u001b[0m",
      "\u001b[1;31mNameError\u001b[0m                                 Traceback (most recent call last)",
      "Cell \u001b[1;32mIn[13], line 1\u001b[0m\n\u001b[1;32m----> 1\u001b[0m tup1\n",
      "\u001b[1;31mNameError\u001b[0m: name 'tup1' is not defined"
     ]
    }
   ],
   "source": [
    "tup1"
   ]
  },
  {
   "cell_type": "code",
   "execution_count": 14,
   "id": "6a6744f0-5fb7-46d3-ac8d-7a23127bffdb",
   "metadata": {},
   "outputs": [
    {
     "name": "stdout",
     "output_type": "stream",
     "text": [
      "1 2 3\n"
     ]
    }
   ],
   "source": [
    "# tuple assignment \n",
    "(a,b,c)=(1,2,3)\n",
    "print(a,b,c)"
   ]
  },
  {
   "cell_type": "code",
   "execution_count": 16,
   "id": "1d96a366-61ec-43cd-8374-23dd96b72ae5",
   "metadata": {},
   "outputs": [
    {
     "name": "stdout",
     "output_type": "stream",
     "text": [
      "4 5.666666666666667 1 False\n"
     ]
    }
   ],
   "source": [
    "# expression evaluated before assignment\n",
    "(x,y,z,p)=(2**2,5/3+4,15%2,56>88)\n",
    "print(x,y,z,p)"
   ]
  },
  {
   "cell_type": "code",
   "execution_count": 17,
   "id": "75983d35-99e0-479c-b5e1-c75e7426e8fe",
   "metadata": {},
   "outputs": [
    {
     "name": "stdout",
     "output_type": "stream",
     "text": [
      "maximum value 87\n",
      "minimum value 12\n"
     ]
    }
   ],
   "source": [
    "# returning multiple values in tuples\n",
    "## program to return the maximum as well as minimum values in a list \n",
    "def min_max(n):\n",
    "    a=max(n)\n",
    "    b=min(n)\n",
    "    return(a,b)\n",
    "num = (12,33,45,76,87,77)\n",
    "(max_num,min_num)=min_max(num)\n",
    "print(\"maximum value\",max_num)\n",
    "print(\"minimum value\",min_num)"
   ]
  },
  {
   "cell_type": "code",
   "execution_count": 18,
   "id": "f6773651-5581-45f7-a560-ff8d99a81ff8",
   "metadata": {},
   "outputs": [
    {
     "name": "stdout",
     "output_type": "stream",
     "text": [
      "('vini', 'X-E', 98.7)\n",
      "('arun', 'X-E', 96)\n",
      "('john', 'X-E', 96)\n",
      "('sai', 'X-E', 95)\n"
     ]
    }
   ],
   "source": [
    "# nested tuple\n",
    "stu=((\"vini\",\"X-E\",98.7),(\"arun\",\"X-E\",96),(\"john\",\"X-E\",96),(\"sai\",\"X-E\",95))\n",
    "for i in stu:\n",
    "    print(i)"
   ]
  },
  {
   "cell_type": "code",
   "execution_count": 19,
   "id": "34532176-5463-41e6-b5fb-4c1dd05956a7",
   "metadata": {},
   "outputs": [
    {
     "name": "stdin",
     "output_type": "stream",
     "text": [
      "enter a value of A: 55\n",
      "enter a value of B: 67\n"
     ]
    },
    {
     "name": "stdout",
     "output_type": "stream",
     "text": [
      "value of A= 55 \n",
      " value of B= 67\n",
      "value of A= 67 \n",
      " value of B= 55\n"
     ]
    }
   ],
   "source": [
    "# program to swap two values using tuple assignment\n",
    "a=int(input(\"enter a value of A:\"))\n",
    "b=int(input(\"enter a value of B:\"))\n",
    "print(\"value of A=\",a, \"\\n value of B=\",b)\n",
    "(a,b) = (b,a)\n",
    "print(\"value of A=\",a, \"\\n value of B=\",b)"
   ]
  },
  {
   "cell_type": "code",
   "execution_count": 22,
   "id": "77ef9385-65fb-42de-ac3c-d7db08ced40d",
   "metadata": {},
   "outputs": [
    {
     "name": "stdin",
     "output_type": "stream",
     "text": [
      "enter the radius: 5\n"
     ]
    },
    {
     "name": "stdout",
     "output_type": "stream",
     "text": [
      "area of the circle: 78.5\n",
      "circumference of the circle: 31.400000000000002\n"
     ]
    }
   ],
   "source": [
    "# write a program using a function that returns the area and circumference of a circel whose radius is passed as an argument, two values using tuple assignment\n",
    "pi=3.14\n",
    "def Circle(r):\n",
    "    return (pi*r*r,2*pi*r)\n",
    "radius = float(input(\"enter the radius:\"))\n",
    "(area,circum) = Circle(radius)\n",
    "print(\"area of the circle:\",area)\n",
    "print(\"circumference of the circle:\",circum)"
   ]
  },
  {
   "cell_type": "code",
   "execution_count": 23,
   "id": "2948010a-1750-46c6-a5fc-d60659b66d2d",
   "metadata": {},
   "outputs": [
    {
     "name": "stdout",
     "output_type": "stream",
     "text": [
      "positive number: (5, 6, 8, 2, 1)\n"
     ]
    }
   ],
   "source": [
    "# program that has a list of positive and negative numbers. create a new tuple that pad only positive numbers from the list \n",
    "num=(5,-8,6,8,-4,2,1)\n",
    "positive=()\n",
    "for i in num:\n",
    "    if i>0:\n",
    "        positive += (i,)\n",
    "print(\"positive number:\",positive)"
   ]
  },
  {
   "cell_type": "markdown",
   "id": "da57edf9-4c72-4332-920d-44911025eeef",
   "metadata": {},
   "source": [
    "# set"
   ]
  },
  {
   "cell_type": "code",
   "execution_count": 24,
   "id": "ed8f3af0-4543-467d-ba0a-b53d4bf56b80",
   "metadata": {},
   "outputs": [
    {
     "name": "stdout",
     "output_type": "stream",
     "text": [
      "{1, 2, 3.4, 3, 'galaxy'}\n"
     ]
    }
   ],
   "source": [
    "# creating set\n",
    "set1={1,2,3,3.4,\"galaxy\"}\n",
    "print(set1)"
   ]
  },
  {
   "cell_type": "code",
   "execution_count": 25,
   "id": "ff0e5936-aa5a-44a1-919f-904b110a99ae",
   "metadata": {},
   "outputs": [
    {
     "name": "stdout",
     "output_type": "stream",
     "text": [
      "{2, 3, 4, 5, 6}\n"
     ]
    }
   ],
   "source": [
    "# creating set using list or tuple\n",
    "my_list=[2,3,4,5,6]\n",
    "my_set=set(my_list)\n",
    "print(my_set)"
   ]
  },
  {
   "cell_type": "code",
   "execution_count": 36,
   "id": "ba98fabf-19ad-44de-85e6-a8ab82aab98a",
   "metadata": {},
   "outputs": [
    {
     "name": "stdout",
     "output_type": "stream",
     "text": [
      "union method 1: {1, 2, 3, 4, 6, 7, 8, 9, 10, 11}\n",
      "union method 2: {1, 2, 3, 4, 6, 7, 8, 9, 10, 11}\n",
      "intersection method 1: {9, 2, 3}\n",
      "intersection method 2: {9, 2, 3}\n",
      "difference method 1: {8, 10, 7}\n",
      "difference method 2: {8, 10, 7}\n",
      "symmetric difference method 1: {1, 4, 6, 7, 8, 10, 11}\n",
      "symmetric difference method 2: {1, 4, 6, 7, 8, 10, 11}\n"
     ]
    }
   ],
   "source": [
    "# SET OPERATIONS \n",
    "\n",
    "# UNION = all elements form the 2 or more sets\n",
    "set_A={2,3,7,9,8,10}\n",
    "set_B={1,2,3,4,9,6,11}\n",
    "\n",
    "\n",
    "U_set=set_A|set_B\n",
    "print(\"union method 1:\",U_set) \n",
    "\n",
    "set_U=set_A.union(set_B)\n",
    "print(\"union method 2:\",set_U)\n",
    "\n",
    "# INTERSECTION = the common element in given sets\n",
    "set_A={2,3,7,9,8,10}\n",
    "set_B={1,2,3,4,9,6,11}\n",
    "\n",
    "I_set=set_A&set_B\n",
    "print(\"intersection method 1:\",I_set) \n",
    "\n",
    "set_I=set_A.intersection(set_B)\n",
    "print(\"intersection method 2:\",set_I)\n",
    "\n",
    "# DIFFERENCE = include all elements form the A (FIRST) set but not in the B set \n",
    "set_A={2,3,7,9,8,10}\n",
    "set_B={1,2,3,4,9,6,11}\n",
    "\n",
    "D_set=set_A-set_B\n",
    "print(\"difference method 1:\",D_set) \n",
    "\n",
    "set_D=set_A.difference(set_B)\n",
    "print(\"difference method 2:\",set_D)\n",
    "\n",
    "# SYMMETRIC DIFFERENCE = it include both A nad B set but not the same elements form the 2 set \n",
    "\n",
    "set_A={2,3,7,9,8,10}\n",
    "set_B={1,2,3,4,9,6,11}\n",
    "\n",
    "SD_set=set_A^set_B\n",
    "print(\"symmetric difference method 1:\",SD_set) \n",
    "\n",
    "set_SD=set_A.symmetric_difference(set_B)\n",
    "print(\"symmetric difference method 2:\",set_SD)"
   ]
  },
  {
   "cell_type": "code",
   "execution_count": 1,
   "id": "a12c99a7-813d-40d9-a874-f93eceedc772",
   "metadata": {},
   "outputs": [
    {
     "name": "stdout",
     "output_type": "stream",
     "text": [
      "even numbers: {2, 4, 6, 8, 10, 12, 14, 16, 18, 20}\n",
      "prime number: {2, 3, 5, 7, 11, 13, 17, 19}\n",
      "union: {2, 3, 4, 5, 6, 7, 8, 10, 11, 12, 13, 14, 16, 17, 18, 19, 20}\n",
      "intersection: {2}\n",
      "difference: {4, 6, 8, 10, 12, 14, 16, 18, 20}\n",
      "symmetric difference: {3, 4, 5, 6, 7, 8, 10, 11, 12, 13, 14, 16, 17, 18, 19, 20}\n"
     ]
    }
   ],
   "source": [
    "# program that generate a set of prime numers and another set of even numbers. demonstrate the result of set operations \n",
    "even = set([x*2 for x in range(1,11)])\n",
    "primes=set()\n",
    "for i in range(2,20):\n",
    "    j=2\n",
    "    f=0\n",
    "    while j <= i/2:\n",
    "        if i%j == 0:\n",
    "            f = 1\n",
    "        j += 1\n",
    "    if f == 0:\n",
    "        primes.add(i)\n",
    "print(\"even numbers:\",even)\n",
    "print(\"prime number:\",primes)\n",
    "print(\"union:\",even.union(primes))\n",
    "print(\"intersection:\",even.intersection(primes))\n",
    "print(\"difference:\",even.difference(primes))\n",
    "print(\"symmetric difference:\",even.symmetric_difference(primes))"
   ]
  },
  {
   "cell_type": "markdown",
   "id": "231fc8a6-48c5-4a2f-8f4b-53e8d3a00f9f",
   "metadata": {},
   "source": [
    "# Dictionaries"
   ]
  },
  {
   "cell_type": "code",
   "execution_count": 1,
   "id": "243ee838-90b8-4938-b922-465cc5240c05",
   "metadata": {},
   "outputs": [],
   "source": [
    "# dictionary comprehensions\n",
    "# dict={expression for variable in sequence [if condition]}"
   ]
  },
  {
   "cell_type": "code",
   "execution_count": 3,
   "id": "0f6e5f37-8356-47f0-8e80-fa731f5cca1b",
   "metadata": {},
   "outputs": [
    {
     "data": {
      "text/plain": [
       "{1: 2, 2: 4, 3: 6, 4: 8, 5: 10, 6: 12, 7: 14, 8: 16, 9: 18}"
      ]
     },
     "execution_count": 3,
     "metadata": {},
     "output_type": "execute_result"
    }
   ],
   "source": [
    "dict= { x:2 * x for x in range(1,10)}\n",
    "dict"
   ]
  },
  {
   "cell_type": "code",
   "execution_count": 10,
   "id": "ce69d3f7-e683-4731-a737-1ec5f110199a",
   "metadata": {},
   "outputs": [
    {
     "name": "stdout",
     "output_type": "stream",
     "text": [
      "{'reg_no': '1221', 'name': 'Tamilselvi', 'school': 'CGHSS', 'address': 'Rotler St., Chennai 112'}\n",
      "Register Number:  1221\n",
      "Name of the Student:  Tamilselvi\n",
      "School:  CGHSS\n",
      "Address:  Rotler St., Chennai 112\n"
     ]
    }
   ],
   "source": [
    "# accessing, adding, modifying and deleting elements from a dictionary\n",
    "## program to access all the values stored in a dictionary\n",
    "my_dict = {\"reg_no\":\"1221\",\n",
    "          \"name\":\"Tamilselvi\",\n",
    "          \"school\":\"CGHSS\",\n",
    "          \"address\":\"Rotler St., Chennai 112\"}\n",
    "print(my_dict)\n",
    "print(\"Register Number: \", my_dict['reg_no'])\n",
    "print(\"Name of the Student: \", my_dict['name'])\n",
    "print(\"School: \", my_dict['school'])\n",
    "print(\"Address: \", my_dict['address'])"
   ]
  },
  {
   "cell_type": "code",
   "execution_count": 11,
   "id": "0ec3fbd9-d146-48a0-860c-dc4c4cfff36a",
   "metadata": {},
   "outputs": [
    {
     "name": "stdout",
     "output_type": "stream",
     "text": [
      "{'reg_no': '1221', 'name': 'Tamilselvi', 'school': 'CGHSS', 'address': 'Rotler St., Chennai 112', 'my class': 'XII - E'}\n"
     ]
    }
   ],
   "source": [
    "# program to add a new value \n",
    "my_dict = {\"reg_no\":\"1221\",\n",
    "          \"name\":\"Tamilselvi\",\n",
    "          \"school\":\"CGHSS\",\n",
    "          \"address\":\"Rotler St., Chennai 112\"}\n",
    "\n",
    "my_dict[\"my class\"]='XII - E'\n",
    "print(my_dict)"
   ]
  },
  {
   "cell_type": "code",
   "execution_count": 15,
   "id": "66861c19-82bf-4080-a39f-88a21a40e6b7",
   "metadata": {},
   "outputs": [
    {
     "name": "stdout",
     "output_type": "stream",
     "text": [
      "{'reg_no': '1221', 'name': 'Tamilselvi', 'school': 'CGHSS'}\n",
      "{}\n"
     ]
    },
    {
     "ename": "NameError",
     "evalue": "name 'my_dict' is not defined",
     "output_type": "error",
     "traceback": [
      "\u001b[1;31m---------------------------------------------------------------------------\u001b[0m",
      "\u001b[1;31mNameError\u001b[0m                                 Traceback (most recent call last)",
      "Cell \u001b[1;32mIn[15], line 11\u001b[0m\n\u001b[0;32m      9\u001b[0m \u001b[38;5;28mprint\u001b[39m(my_dict)\n\u001b[0;32m     10\u001b[0m \u001b[38;5;28;01mdel\u001b[39;00m my_dict\n\u001b[1;32m---> 11\u001b[0m \u001b[38;5;28mprint\u001b[39m(my_dict)\n",
      "\u001b[1;31mNameError\u001b[0m: name 'my_dict' is not defined"
     ]
    }
   ],
   "source": [
    "# program to delete elements from a dictionary and finally delete the dictionary \n",
    "my_dict = {\"reg_no\":\"1221\",\n",
    "          \"name\":\"Tamilselvi\",\n",
    "          \"school\":\"CGHSS\",\n",
    "          \"address\":\"Rotler St., Chennai 112\"}\n",
    "del my_dict[\"address\"]\n",
    "print(my_dict)\n",
    "my_dict.clear()\n",
    "print(my_dict)\n",
    "del my_dict\n",
    "print(my_dict)"
   ]
  },
  {
   "cell_type": "code",
   "execution_count": 16,
   "id": "49dab9f4-81b3-4f57-a350-2df1a9eca947",
   "metadata": {},
   "outputs": [
    {
     "name": "stdout",
     "output_type": "stream",
     "text": [
      "remove duplicate: [1, 2, 3, 4, 5, 6, 7]\n"
     ]
    }
   ],
   "source": [
    "# write a program to remove duplicate from a list\n",
    "my_list=[1,2,3,3,4,5,6,6,6,7,7,5,5,4]\n",
    "my_list1=list(set(my_list))\n",
    "print(\"remove duplicate:\",my_list1)"
   ]
  },
  {
   "cell_type": "code",
   "execution_count": 19,
   "id": "63be544a-c918-4ad6-a9d9-8fe38c8745bf",
   "metadata": {},
   "outputs": [
    {
     "name": "stdout",
     "output_type": "stream",
     "text": [
      "list without duplicate: [1, 2, 3, 4, 5, 6, 7, 8]\n"
     ]
    }
   ],
   "source": [
    "my_list=[1,1,1,2,3,4,5,6,6,7,8]\n",
    "new_list=[]\n",
    "for i in my_list:\n",
    "    if i not in new_list:\n",
    "        new_list.append(i)\n",
    "print(\"list without duplicate:\",new_list)"
   ]
  },
  {
   "cell_type": "code",
   "execution_count": 18,
   "id": "2fae630b-1b9f-4662-a696-5520ff53403c",
   "metadata": {},
   "outputs": [
    {
     "name": "stdout",
     "output_type": "stream",
     "text": [
      "maximum value : 664\n"
     ]
    }
   ],
   "source": [
    "# write a program that print the maximum value in a tuple \n",
    "my_tuple=(111,22,343,664,5,5,66,77,88,9)\n",
    "print(\"maximum value :\",max(my_tuple))"
   ]
  },
  {
   "cell_type": "code",
   "execution_count": 22,
   "id": "75e5b060-2ead-45ac-b9d4-76795e2ea714",
   "metadata": {},
   "outputs": [
    {
     "name": "stdout",
     "output_type": "stream",
     "text": [
      "sum of numbers: 31\n"
     ]
    }
   ],
   "source": [
    "# write a program that finds the sum of all the numbers in a tuple using while loop\n",
    "num=(1,2,3,4,9,3,4,5)\n",
    "i=0\n",
    "total=0\n",
    "while i < len(num):\n",
    "    total += num[i]\n",
    "    i+=1\n",
    "print(\"sum of numbers:\",total)"
   ]
  },
  {
   "cell_type": "code",
   "execution_count": 29,
   "id": "a91858f3-30b3-4652-b0ce-72de466df9a0",
   "metadata": {},
   "outputs": [
    {
     "name": "stdout",
     "output_type": "stream",
     "text": [
      "sum of even number: 30\n"
     ]
    }
   ],
   "source": [
    "# write a program that finds sum of all even numbers in a list\n",
    "my_list=[1,2,3,4,5,6,7,8,9,10]\n",
    "sum_even = 0\n",
    "for i in my_list:\n",
    "    if i%2 == 0:\n",
    "        sum_even += i\n",
    "print(\"sum of even number:\",sum_even)"
   ]
  },
  {
   "cell_type": "code",
   "execution_count": 35,
   "id": "1bc4813e-8982-4446-9e73-4a3ac259b246",
   "metadata": {},
   "outputs": [
    {
     "name": "stdout",
     "output_type": "stream",
     "text": [
      "reversed the list [9, 2, 1, 7, 3, 4, 6, 4, 1]\n"
     ]
    }
   ],
   "source": [
    "# write a program that reverse a list using a loop\n",
    "my_list=[1,4,6,4,3,7,1,2,9]\n",
    "reversed_list=[]\n",
    "for i in range(len(my_list) - 1,-1,-1):\n",
    "    reversed_list.append(my_list[i])\n",
    "print(\"reversed the list\",reversed_list)"
   ]
  },
  {
   "cell_type": "code",
   "execution_count": 37,
   "id": "02aa960e-4d78-429c-80c9-65d7d9ed909b",
   "metadata": {},
   "outputs": [
    {
     "name": "stdout",
     "output_type": "stream",
     "text": [
      "[22, 33, 43, 56, 87, 98, 90]\n"
     ]
    }
   ],
   "source": [
    "# write a program to insert a value in a list at the specified location \n",
    "my_list=[22,43,56,87,98,90]\n",
    "my_list.insert(1,33)\n",
    "print(my_list)"
   ]
  },
  {
   "cell_type": "code",
   "execution_count": 51,
   "id": "0d10ed6c-db9b-464e-b5b1-d5aa82a74748",
   "metadata": {},
   "outputs": [
    {
     "name": "stdout",
     "output_type": "stream",
     "text": [
      "[3, 6, 9, 12, 15, 18, 21, 24, 27, 30, 33, 36, 39, 42, 45, 48]\n"
     ]
    }
   ],
   "source": [
    "# write a program that create a list of numbers from 1 to 50 that are either divisible by 3 or 6\n",
    "\n",
    "my_list=list(range(1,51))\n",
    "result=[]\n",
    "for i in my_list:\n",
    "    if i%3 == 0 or i%6 == 0:\n",
    "        result.append(i)\n",
    "print(result)"
   ]
  },
  {
   "cell_type": "code",
   "execution_count": 55,
   "id": "3649c428-dc53-4e21-a5f3-1470728013bb",
   "metadata": {},
   "outputs": [
    {
     "name": "stdout",
     "output_type": "stream",
     "text": [
      "[1, 2, 4, 5, 7, 8, 10, 11, 13, 14, 16, 17, 19, 20]\n"
     ]
    }
   ],
   "source": [
    "# Write a program to create a list of numbers in the range 1 to 20. Then delete all the numbers from the list that are divisible by 3.\n",
    "my_list=list(range(1,21))\n",
    "new_list=[]\n",
    "for i in my_list:\n",
    "    if i%3 != 0:\n",
    "        new_list.append(i)\n",
    "print(new_list)"
   ]
  },
  {
   "cell_type": "code",
   "execution_count": 58,
   "id": "75655956-4c71-4ced-b2e2-39ce3c468119",
   "metadata": {},
   "outputs": [
    {
     "name": "stdout",
     "output_type": "stream",
     "text": [
      "4 appears 3 times\n"
     ]
    }
   ],
   "source": [
    "# Write a program that counts the number of times a value appears in the list. Use a loop to do the same\n",
    "my_list=[1,2,3,4,4,5,3,4]\n",
    "value=4\n",
    "count=0\n",
    "for i in my_list:\n",
    "    if i == value:\n",
    "        count += 1\n",
    "print(value,\"appears\",count,\"times\")"
   ]
  },
  {
   "cell_type": "code",
   "execution_count": 71,
   "id": "7c31a5be-d8f3-4228-b7b1-d3a83c97a7b6",
   "metadata": {},
   "outputs": [
    {
     "name": "stdout",
     "output_type": "stream",
     "text": [
      "maximum values: 15\n",
      "minimum values: 3\n"
     ]
    }
   ],
   "source": [
    "# Write a program that prints the maximum and minimum value in a dictionary\n",
    "my_dict = {'a': 10, 'b': 5, 'c': 15, 'd': 3}\n",
    "values=list(my_dict.values())\n",
    "max_values=values[0]\n",
    "min_values=values[0]\n",
    "for i in values:\n",
    "    if i > max_values:\n",
    "        max_values = i \n",
    "    if i < min_values:\n",
    "        min_values = i\n",
    "print(\"maximum values:\",max_values)\n",
    "print(\"minimum values:\",min_values)"
   ]
  },
  {
   "cell_type": "code",
   "execution_count": null,
   "id": "7ec69d38-148a-4080-8278-3e23a0e03c0c",
   "metadata": {},
   "outputs": [],
   "source": []
  }
 ],
 "metadata": {
  "kernelspec": {
   "display_name": "Python 3 (ipykernel)",
   "language": "python",
   "name": "python3"
  },
  "language_info": {
   "codemirror_mode": {
    "name": "ipython",
    "version": 3
   },
   "file_extension": ".py",
   "mimetype": "text/x-python",
   "name": "python",
   "nbconvert_exporter": "python",
   "pygments_lexer": "ipython3",
   "version": "3.11.7"
  }
 },
 "nbformat": 4,
 "nbformat_minor": 5
}
