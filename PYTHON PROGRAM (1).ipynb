{
 "cells": [
  {
   "cell_type": "markdown",
   "id": "99efc2e8-b498-450a-985f-c2107897bee4",
   "metadata": {},
   "source": [
    "# **PYTHON PROGRAM**"
   ]
  },
  {
   "cell_type": "markdown",
   "id": "e2ab3f77-7a05-4a70-b3da-6c84e10c75bb",
   "metadata": {},
   "source": [
    "# control structures"
   ]
  },
  {
   "cell_type": "code",
   "execution_count": 1,
   "id": "34d418ab-2066-41c2-9c0d-5ebe0368ca89",
   "metadata": {},
   "outputs": [
    {
     "name": "stdin",
     "output_type": "stream",
     "text": [
      "enter a number: 22\n"
     ]
    },
    {
     "name": "stdout",
     "output_type": "stream",
     "text": [
      "22 is an even number\n"
     ]
    }
   ],
   "source": [
    "# IF..ELSE STATEMENT\n",
    "# write a program to check if the number is even or odd \n",
    "\n",
    "a=int(input(\"enter a number:\"))\n",
    "if a%2==0:\n",
    "    print(a,\"is an even number\")\n",
    "else:\n",
    "    print(a,\"is an odd number\")"
   ]
  },
  {
   "cell_type": "code",
   "execution_count": 2,
   "id": "16a6ed7e-12a0-48fe-9b7c-f34daac9170f",
   "metadata": {},
   "outputs": [
    {
     "name": "stdin",
     "output_type": "stream",
     "text": [
      "enter a number: 21\n"
     ]
    },
    {
     "name": "stdout",
     "output_type": "stream",
     "text": [
      "21 is odd\n"
     ]
    }
   ],
   "source": [
    "a=int(input(\"enter a number:\"))\n",
    "x=\"even\" if a%2==0 else \"odd\"\n",
    "print(a,\"is\",x)"
   ]
  },
  {
   "cell_type": "code",
   "execution_count": 3,
   "id": "f8477bdb-8280-4499-9677-28ea9296a668",
   "metadata": {},
   "outputs": [
    {
     "name": "stdin",
     "output_type": "stream",
     "text": [
      "enter a tamil mark: 78\n",
      "enter a english mark: 77\n",
      "enter a maths mark: 78\n",
      "enter a science mark: 89\n",
      "enter a social mark: 90\n"
     ]
    },
    {
     "name": "stdout",
     "output_type": "stream",
     "text": [
      "Average: 82.4\n",
      "grade:A\n"
     ]
    }
   ],
   "source": [
    "# NESTED IF ELSE STATEMENT\n",
    "# program to illustrate thr use of nested if statement\n",
    "\n",
    "tamil=int(input(\"enter a tamil mark:\"))\n",
    "english=int(input(\"enter a english mark:\"))\n",
    "maths=int(input(\"enter a maths mark:\"))\n",
    "science=int(input(\"enter a science mark:\"))\n",
    "social=int(input(\"enter a social mark:\"))\n",
    "avg=(tamil+english+maths+science+social)/5\n",
    "print(\"Average:\",avg)\n",
    "if avg >= 80:\n",
    "    print(\"grade:A\")\n",
    "elif avg>= 70 and avg<80:\n",
    "    print(\"grade:B\")\n",
    "elif avg>= 60 and avg<70:\n",
    "    print(\"grade:C\")\n",
    "elif avg>= 50 and avg<60:\n",
    "    print(\"grade:D\")\n",
    "else:\n",
    "    print(\"grade:E\")"
   ]
  },
  {
   "cell_type": "code",
   "execution_count": 4,
   "id": "fedb130a-4e83-4961-88d3-3c5858d3d8bc",
   "metadata": {},
   "outputs": [
    {
     "name": "stdin",
     "output_type": "stream",
     "text": [
      "enter a character: flower\n"
     ]
    },
    {
     "name": "stdout",
     "output_type": "stream",
     "text": [
      "flower is not in vowel\n"
     ]
    }
   ],
   "source": [
    "# write a program to illustrate the use of 'in' and 'not in' if statement\n",
    "a=input(\"enter a character:\")\n",
    "chr= 'aeiouAEIOU'\n",
    "if a in chr:\n",
    "    print(a,\"is the vowel\")\n",
    "if a not in chr:\n",
    "    print(a,\"is not in vowel\")"
   ]
  },
  {
   "cell_type": "code",
   "execution_count": 5,
   "id": "d73a11ff-6c6a-421c-8f45-4b78c0f79bd6",
   "metadata": {},
   "outputs": [
    {
     "name": "stdout",
     "output_type": "stream",
     "text": [
      "10\n",
      "11\n",
      "12\n",
      "13\n",
      "14\n",
      "15\n"
     ]
    }
   ],
   "source": [
    "# WHILE LOOP\n",
    "# use while loop to print all numbers from 10 to 15\n",
    "i=10\n",
    "while (i<=15):\n",
    "    print(i,end='\\n')\n",
    "    i=i+1"
   ]
  },
  {
   "cell_type": "code",
   "execution_count": 6,
   "id": "64c0bacd-1567-4106-8c75-812cceb77062",
   "metadata": {},
   "outputs": [
    {
     "name": "stdout",
     "output_type": "stream",
     "text": [
      "2 4 6 8 "
     ]
    }
   ],
   "source": [
    "# FOR LOOP\n",
    "# use of for loop to print single digit even number\n",
    "\n",
    "for i in range(2,10,2):\n",
    "    print(i,end=' ')"
   ]
  },
  {
   "cell_type": "code",
   "execution_count": 7,
   "id": "4aa5c24a-1b49-47ea-a490-3fbac7c28377",
   "metadata": {},
   "outputs": [
    {
     "name": "stdout",
     "output_type": "stream",
     "text": [
      "sum of 1 until 100:5050\n"
     ]
    }
   ],
   "source": [
    "# program to calculate the sum of numbers 1 to 100\n",
    "n=100\n",
    "sum=0\n",
    "for counter in range(1,n+1):\n",
    "    sum = sum+counter\n",
    "print(\"sum of 1 until %d:%d\" % (n,sum))"
   ]
  },
  {
   "cell_type": "code",
   "execution_count": 8,
   "id": "6bca20a1-7186-4b45-be90-6d6de3a74b77",
   "metadata": {},
   "outputs": [
    {
     "name": "stdout",
     "output_type": "stream",
     "text": [
      "C O M P U T E R "
     ]
    }
   ],
   "source": [
    "# program to illustrate the use of string in range() of for loop\n",
    "for word in 'COMPUTER':\n",
    "    print(word,end=' ')"
   ]
  },
  {
   "cell_type": "code",
   "execution_count": 9,
   "id": "136177fc-6cb0-4441-98d4-bcc64f49a711",
   "metadata": {},
   "outputs": [
    {
     "name": "stdout",
     "output_type": "stream",
     "text": [
      "\n",
      "1\t\n",
      "1\t2\t\n",
      "1\t2\t3\t\n",
      "1\t2\t3\t4\t\n",
      "1\t2\t3\t4\t5\t\n"
     ]
    }
   ],
   "source": [
    "# NESTED LOOP STRUCTURE\n",
    "# program to illustrate the use nested loop - for within while loop\n",
    "i=1\n",
    "while(i<=6):\n",
    "    for j in range(1,i):\n",
    "        print(j,end='\\t')\n",
    "    print(end='\\n')\n",
    "    i+=1"
   ]
  },
  {
   "cell_type": "code",
   "execution_count": 10,
   "id": "d2354e62-d363-4567-9c87-82838d3d9dd0",
   "metadata": {},
   "outputs": [
    {
     "name": "stdout",
     "output_type": "stream",
     "text": [
      "jump stat"
     ]
    }
   ],
   "source": [
    "# BREAK STATEMENT\n",
    "# write a program to use of break statement\n",
    "for word in \"jump statement\":\n",
    "    if word == \"e\":\n",
    "        break\n",
    "    print(word,end='')"
   ]
  },
  {
   "cell_type": "code",
   "execution_count": 11,
   "id": "a69db1e2-1bbc-4f1e-a6a3-8e3bae2d06ab",
   "metadata": {},
   "outputs": [
    {
     "name": "stdout",
     "output_type": "stream",
     "text": [
      "jump statmnt"
     ]
    }
   ],
   "source": [
    "# CONTINUE STATEMENT\n",
    "# write a program to use continue statement\n",
    "for word in \"jump statement\":\n",
    "    if word == \"e\":\n",
    "        continue\n",
    "    print(word,end='')"
   ]
  },
  {
   "cell_type": "code",
   "execution_count": 1,
   "id": "45848c65-ff43-4960-b634-ac98a6f70090",
   "metadata": {},
   "outputs": [
    {
     "name": "stdin",
     "output_type": "stream",
     "text": [
      "enter a number: 4\n"
     ]
    },
    {
     "name": "stdout",
     "output_type": "stream",
     "text": [
      "non zero value is accepted\n"
     ]
    }
   ],
   "source": [
    "# PASS STATEMENT\n",
    "# program to illustrate thr use of pass statement \n",
    "a=int(input(\"enter a number:\"))\n",
    "if a ==0:\n",
    "    pass\n",
    "else:\n",
    "    print(\"non zero value is accepted\")  # if the input value is 0 then no action will be performed "
   ]
  },
  {
   "cell_type": "code",
   "execution_count": 2,
   "id": "e0d82190-ed20-4bfa-a687-61fb5403f69e",
   "metadata": {},
   "outputs": [
    {
     "name": "stdin",
     "output_type": "stream",
     "text": [
      "enter a word: welcome\n"
     ]
    },
    {
     "name": "stdout",
     "output_type": "stream",
     "text": [
      "not a vowel\n"
     ]
    }
   ],
   "source": [
    "# write a program to check whether the given character is a vowel or not \n",
    "a=input(\"enter a word:\")\n",
    "ch='aeiouAEIOU'\n",
    "if a in ch:\n",
    "    print(\"vowel\")\n",
    "else:\n",
    "    print(\"not a vowel\")"
   ]
  },
  {
   "cell_type": "code",
   "execution_count": 3,
   "id": "bb7a4d93-8cb4-4d21-9c14-b7593efa991d",
   "metadata": {},
   "outputs": [
    {
     "name": "stdin",
     "output_type": "stream",
     "text": [
      "enter a number(a): 44\n",
      "enter a number(b): 56\n",
      "enter a number(c): 345\n"
     ]
    },
    {
     "name": "stdout",
     "output_type": "stream",
     "text": [
      "a is smallest\n"
     ]
    }
   ],
   "source": [
    "# using if..else..elif statement check smallest of three numbers\n",
    "a=int(input(\"enter a number(a):\"))\n",
    "b=int(input(\"enter a number(b):\"))\n",
    "c=int(input(\"enter a number(c):\"))\n",
    "if a < b and a < c:\n",
    "    print(\"a is smallest\")\n",
    "elif b < a and b < c:\n",
    "    print(\"b is smallest\")\n",
    "else:\n",
    "    print(\"c is smallest\")"
   ]
  },
  {
   "cell_type": "code",
   "execution_count": 4,
   "id": "43249926-cdaf-47be-bcc9-c17d03bfb3ac",
   "metadata": {},
   "outputs": [
    {
     "name": "stdin",
     "output_type": "stream",
     "text": [
      "enter a number: -0\n"
     ]
    },
    {
     "name": "stdout",
     "output_type": "stream",
     "text": [
      "zero\n"
     ]
    }
   ],
   "source": [
    "# write a program to check if a number is positive, negative or zero\n",
    "a=int(input(\"enter a number:\"))\n",
    "if a < 0:\n",
    "    print(\"negative\")\n",
    "elif a>0:\n",
    "    print(\"positive\")\n",
    "else:\n",
    "    print(\"zero\")"
   ]
  },
  {
   "cell_type": "code",
   "execution_count": 5,
   "id": "24860bb2-5648-4587-96a5-e6dfd6d2a43d",
   "metadata": {},
   "outputs": [
    {
     "name": "stdin",
     "output_type": "stream",
     "text": [
      "enter a number: 23\n"
     ]
    },
    {
     "name": "stdout",
     "output_type": "stream",
     "text": [
      "0 1 1 2 3 5 8 13 "
     ]
    }
   ],
   "source": [
    "# fibonacci series 0 1 1 2 3 4 5.. n\n",
    "limit=int(input(\"enter a number:\"))\n",
    "a,b=0,1\n",
    "while b < limit:\n",
    "    print(a,end=\" \")\n",
    "    a,b=b,a+b"
   ]
  },
  {
   "cell_type": "code",
   "execution_count": 6,
   "id": "5335949f-3fc1-4f03-a4e2-63289e124303",
   "metadata": {},
   "outputs": [
    {
     "name": "stdin",
     "output_type": "stream",
     "text": [
      "Enter a positive number:  66\n"
     ]
    },
    {
     "name": "stdout",
     "output_type": "stream",
     "text": [
      "Sum of natural numbers up to 66 is: 2211\n"
     ]
    }
   ],
   "source": [
    "# write a program to display sum of natural numbers upto n\n",
    "n = int(input(\"Enter a positive number: \"))\n",
    "sum = n * (n + 1) // 2\n",
    "print(\"Sum of natural numbers up to\", n, \"is:\", sum)\n"
   ]
  },
  {
   "cell_type": "code",
   "execution_count": 7,
   "id": "04aff953-1337-4139-8737-463e75289932",
   "metadata": {},
   "outputs": [
    {
     "name": "stdin",
     "output_type": "stream",
     "text": [
      "Enter a positive number:  55\n"
     ]
    },
    {
     "name": "stdout",
     "output_type": "stream",
     "text": [
      "Sum of natural numbers up to 55 is: 1540\n"
     ]
    }
   ],
   "source": [
    "n = int(input(\"Enter a positive number: \"))\n",
    "sum = 0\n",
    "for i in range(1, n + 1):\n",
    "    sum += i\n",
    "print(\"Sum of natural numbers up to\", n, \"is:\", sum)"
   ]
  },
  {
   "cell_type": "code",
   "execution_count": 8,
   "id": "0c853253-d410-488b-afb9-e3debd4efa8c",
   "metadata": {},
   "outputs": [
    {
     "name": "stdin",
     "output_type": "stream",
     "text": [
      "Enter a positive number:  3\n"
     ]
    },
    {
     "name": "stdout",
     "output_type": "stream",
     "text": [
      "Sum of natural numbers up to 3 is: 6\n"
     ]
    }
   ],
   "source": [
    "n = int(input(\"Enter a positive number: \"))\n",
    "sum = 0\n",
    "i = 1\n",
    "while i <= n:\n",
    "    sum += i\n",
    "    i += 1\n",
    "print(\"Sum of natural numbers up to\", n, \"is:\", sum)"
   ]
  },
  {
   "cell_type": "code",
   "execution_count": 9,
   "id": "3b800995-bbec-4e13-a6b8-de1dbd6f7a1f",
   "metadata": {},
   "outputs": [
    {
     "name": "stdin",
     "output_type": "stream",
     "text": [
      "enter a number: 44\n"
     ]
    },
    {
     "name": "stdout",
     "output_type": "stream",
     "text": [
      "44 is a palindrome\n"
     ]
    }
   ],
   "source": [
    "# write a program to check if the given number is palindrome or not \n",
    "n=input(\"enter a number:\")\n",
    "if n ==n[::-1]:\n",
    "    print(n,\"is a palindrome\")\n",
    "else:\n",
    "    print(n,\"is not a palindrome\")"
   ]
  },
  {
   "cell_type": "code",
   "execution_count": 10,
   "id": "54f8b904-e550-498b-ab91-a55d199e2517",
   "metadata": {},
   "outputs": [
    {
     "name": "stdin",
     "output_type": "stream",
     "text": [
      "enter a number: 2323\n"
     ]
    },
    {
     "name": "stdout",
     "output_type": "stream",
     "text": [
      "2323 is not a palindrome\n"
     ]
    }
   ],
   "source": [
    "n=int(input(\"enter a number:\"))\n",
    "original = n\n",
    "reverse = 0\n",
    "while n> 0:\n",
    "    digit = n % 10\n",
    "    reverse = reverse * 10 + digit\n",
    "    n = n// 10\n",
    "if original == reverse:\n",
    "    print(original,\"is a palindrome\")\n",
    "else:\n",
    "    print(original,\"is not a palindrome\")"
   ]
  },
  {
   "cell_type": "code",
   "execution_count": 11,
   "id": "e728ce94-4f8e-4b13-8d3b-c0282cc64fe4",
   "metadata": {},
   "outputs": [
    {
     "name": "stdout",
     "output_type": "stream",
     "text": [
      "* * * * * \n",
      "* * * * \n",
      "* * * \n",
      "* * \n",
      "* \n"
     ]
    }
   ],
   "source": [
    "# write a program to print the following pattern\n",
    "#   * * * * *\n",
    "#   * * * *\n",
    "#   * * *\n",
    "#   * *\n",
    "#   *\n",
    "i=5\n",
    "while i>=1:\n",
    "    for j in range(i):\n",
    "        print(\"*\",end=' ')\n",
    "    print()\n",
    "    i-=1"
   ]
  },
  {
   "cell_type": "code",
   "execution_count": 12,
   "id": "c5f4f7bd-21b3-4071-9bf3-5d8349e757bb",
   "metadata": {},
   "outputs": [
    {
     "name": "stdin",
     "output_type": "stream",
     "text": [
      "enter a year: 2078\n"
     ]
    },
    {
     "name": "stdout",
     "output_type": "stream",
     "text": [
      "2078 is not a leap year\n"
     ]
    }
   ],
   "source": [
    "# write a program to check if the year is leap year or not \n",
    "year=int(input(\"enter a year:\"))\n",
    "if year % 4 ==0:\n",
    "    print(year,\"is leap year\")\n",
    "else:\n",
    "     print(year,\"is not a leap year\")"
   ]
  },
  {
   "cell_type": "markdown",
   "id": "49f8fc1c-abc6-4fb7-a3f2-8424c1e77856",
   "metadata": {},
   "source": [
    "# Python Function"
   ]
  },
  {
   "cell_type": "code",
   "execution_count": 13,
   "id": "a129ee87-89ca-4e9f-97d7-f2eb725983ac",
   "metadata": {},
   "outputs": [
    {
     "name": "stdout",
     "output_type": "stream",
     "text": [
      "hello!! python\n"
     ]
    }
   ],
   "source": [
    "def hello():\n",
    "    print(\"hello!! python\")\n",
    "hello()"
   ]
  },
  {
   "cell_type": "code",
   "execution_count": 14,
   "id": "b7a92cf2-f521-49f6-9b7d-cec0443aa483",
   "metadata": {},
   "outputs": [
    {
     "name": "stdout",
     "output_type": "stream",
     "text": [
      "12\n"
     ]
    }
   ],
   "source": [
    "def area(a,b):\n",
    "    return a*b\n",
    "print(area(3,4))"
   ]
  },
  {
   "cell_type": "code",
   "execution_count": 15,
   "id": "51d7da16-dd5c-4f77-9f91-c10361b48cb2",
   "metadata": {},
   "outputs": [
    {
     "name": "stdout",
     "output_type": "stream",
     "text": [
      "name: john\n",
      "age: 23\n"
     ]
    }
   ],
   "source": [
    "# positional arguments\n",
    "\n",
    "def greet(name,age):\n",
    "    print(\"name:\",name)\n",
    "    print(\"age:\",age)\n",
    "greet(\"john\",23)"
   ]
  },
  {
   "cell_type": "code",
   "execution_count": 16,
   "id": "03450dc1-7140-40f8-83cb-89ea5b2d89bd",
   "metadata": {},
   "outputs": [
    {
     "name": "stdout",
     "output_type": "stream",
     "text": [
      "name: dev\n",
      "age: 23\n"
     ]
    }
   ],
   "source": [
    "# keyword arguments\n",
    "\n",
    "def printdata(name,age):\n",
    "    print(\"name:\",name)\n",
    "    print(\"age:\",age)\n",
    "    return \n",
    "printdata(name=\"dev\",age=23)"
   ]
  },
  {
   "cell_type": "code",
   "execution_count": 17,
   "id": "dc9a9009-c07f-41a7-945b-041820337bfb",
   "metadata": {},
   "outputs": [
    {
     "name": "stdout",
     "output_type": "stream",
     "text": [
      "hello dev,good morning\n",
      "hello varshini,hii\n"
     ]
    }
   ],
   "source": [
    "# default arguments\n",
    "\n",
    "def greet(name, msg=\"good morning\"):\n",
    "    print(f\"hello {name},{msg}\")\n",
    "greet(\"dev\")  # uses default msg\n",
    "greet(\"varshini\",\"hii\") # overrides default"
   ]
  },
  {
   "cell_type": "code",
   "execution_count": 18,
   "id": "718b5742-b678-49dc-b384-8662086055da",
   "metadata": {},
   "outputs": [
    {
     "name": "stdout",
     "output_type": "stream",
     "text": [
      "name: dev\n",
      "salary: 450000\n"
     ]
    }
   ],
   "source": [
    "def data(name,salary=450000):\n",
    "    print(\"name:\",name)\n",
    "    print(\"salary:\",salary)\n",
    "    return\n",
    "data(\"dev\")"
   ]
  },
  {
   "cell_type": "code",
   "execution_count": 1,
   "id": "b94b26bd-b9bd-436e-883f-723bb4ddc3aa",
   "metadata": {},
   "outputs": [
    {
     "name": "stdout",
     "output_type": "stream",
     "text": [
      "sum: 15\n"
     ]
    }
   ],
   "source": [
    "# variable length arguments  multiple values - stored in tuple\n",
    "def num1(*args):\n",
    "    total = sum(args)\n",
    "    print(\"sum:\", total)\n",
    "\n",
    "num1(1, 2, 3, 4, 5)\n"
   ]
  },
  {
   "cell_type": "code",
   "execution_count": 20,
   "id": "f1f88104-21f8-4180-9669-68003ca8381f",
   "metadata": {},
   "outputs": [
    {
     "name": "stdout",
     "output_type": "stream",
     "text": [
      "printing 2 values\n",
      "1\n",
      "2\n",
      "printing 3 values\n",
      "1\n",
      "2\n",
      "3\n"
     ]
    }
   ],
   "source": [
    "def num(*args):\n",
    "    for n in args:\n",
    "        print(n)\n",
    "        \n",
    "print(\"printing 2 values\")\n",
    "num(1,2)\n",
    "print(\"printing 3 values\")\n",
    "num(1,2,3)"
   ]
  },
  {
   "cell_type": "code",
   "execution_count": 21,
   "id": "98a31346-c9a1-432d-865a-839cb804b62c",
   "metadata": {},
   "outputs": [
    {
     "name": "stdout",
     "output_type": "stream",
     "text": [
      "name:deva\n",
      "age:23\n",
      "location:chennai\n",
      "year:2003\n"
     ]
    }
   ],
   "source": [
    "# keyword arguments   key + value pairs - stored in dictionary\n",
    "def profile(**kwargs):\n",
    "    for key, value in kwargs.items():\n",
    "        print(f\"{key}:{value}\")\n",
    "profile(name=\"deva\",age=23,location=\"chennai\",year=2003)"
   ]
  },
  {
   "cell_type": "code",
   "execution_count": 22,
   "id": "82f1bad7-3002-4870-8174-525c2edc9d4e",
   "metadata": {},
   "outputs": [
    {
     "name": "stdout",
     "output_type": "stream",
     "text": [
      "100\n"
     ]
    }
   ],
   "source": [
    "# SCOPE OF VARIABLE\n",
    "# create local variable\n",
    "def loc():\n",
    "    y=100 # local scope\n",
    "    print(y)\n",
    "loc()"
   ]
  },
  {
   "cell_type": "code",
   "execution_count": 23,
   "id": "57460c8e-fb48-4dee-8322-98281612a8f9",
   "metadata": {},
   "outputs": [
    {
     "name": "stdout",
     "output_type": "stream",
     "text": [
      "1\n"
     ]
    }
   ],
   "source": [
    "# GLOBAL SCOPE\n",
    "c=1 # global scope\n",
    "def add():\n",
    "    print(c)\n",
    "add()"
   ]
  },
  {
   "cell_type": "code",
   "execution_count": 24,
   "id": "064d44c7-381d-44f5-9fda-469972703c89",
   "metadata": {},
   "outputs": [
    {
     "name": "stdout",
     "output_type": "stream",
     "text": [
      "inside add() function x value is : 5\n",
      "In main x value is: 5\n"
     ]
    }
   ],
   "source": [
    "# changing global variable from inside a function using global keyword\n",
    "\n",
    "x=0\n",
    "def add():\n",
    "    global x\n",
    "    x = x+5\n",
    "    print(\"inside add() function x value is :\",x)\n",
    "add()\n",
    "print(\"In main x value is:\",x)"
   ]
  },
  {
   "cell_type": "code",
   "execution_count": 25,
   "id": "291d2108-2568-429a-825d-eef23cbbd350",
   "metadata": {},
   "outputs": [
    {
     "name": "stdout",
     "output_type": "stream",
     "text": [
      "3\n",
      "4\n"
     ]
    }
   ],
   "source": [
    "c=1\n",
    "def add():\n",
    "    global c\n",
    "    c = c+2\n",
    "    print(c)\n",
    "add()\n",
    "c=c+1\n",
    "print(c)"
   ]
  },
  {
   "cell_type": "code",
   "execution_count": 26,
   "id": "07be96cf-e4e3-4354-8c73-8b40faac108d",
   "metadata": {},
   "outputs": [
    {
     "name": "stdout",
     "output_type": "stream",
     "text": [
      "16\n",
      "local\n"
     ]
    }
   ],
   "source": [
    "# using global and local variable in same code\n",
    "x=8\n",
    "def loc():\n",
    "    global x\n",
    "    y=\"local\"\n",
    "    x=x*2\n",
    "    print(x)\n",
    "    print(y)\n",
    "loc()"
   ]
  },
  {
   "cell_type": "code",
   "execution_count": 27,
   "id": "d6fe298f-6955-4347-885e-186f4452822d",
   "metadata": {},
   "outputs": [
    {
     "name": "stdout",
     "output_type": "stream",
     "text": [
      "local x: 10\n",
      "global x: 5\n"
     ]
    }
   ],
   "source": [
    "# global variable and local variable with same name \n",
    "x=5\n",
    "def loc():\n",
    "    x=10\n",
    "    print(\"local x:\",x)\n",
    "loc()\n",
    "print(\"global x:\",x)"
   ]
  },
  {
   "cell_type": "code",
   "execution_count": 43,
   "id": "2f7546c1-3fb2-4907-abe4-72f1ff19592b",
   "metadata": {},
   "outputs": [
    {
     "name": "stdout",
     "output_type": "stream",
     "text": [
      "ord_x= 97\n",
      "ord_y= 65\n",
      "chr_x= A\n",
      "15 in binary: 0b1111\n",
      "type_x= <class 'float'>\n",
      "type_s= <class 'bool'>\n",
      "address of x is: 140737152273496\n",
      "minimum of my list: 2\n",
      "maximum of my list: 65\n",
      "x value in binary: 1110\n",
      "x value in octal: 16\n",
      "x value in fixed-point: 14.000000\n",
      "x value is rounded to: 18\n",
      "y value is rounded to: -18\n",
      "z value is rounded to: 18.0\n",
      "z value is rounded to: 17.9\n",
      "z value is rounded to: 17.89\n",
      "power (a**b): 25\n",
      "power (a**c): 125.0\n",
      "power: 343\n",
      "floor: 26\n",
      "ceil: 24\n",
      "square_root: 5.0\n"
     ]
    }
   ],
   "source": [
    "# FUNCTION WITH LIBRARIES\n",
    "\n",
    "# abs()= return an absolute value of the number\n",
    "# a=-22\n",
    "# abs_a=print(abs(a))\n",
    "\n",
    "# ard() = return the ASCII value for the given unicode character\n",
    "\n",
    "x='a'\n",
    "y='A'\n",
    "print(\"ord_x=\",ord(x))\n",
    "print(\"ord_y=\",ord(y))\n",
    "\n",
    "# chr() = return the unicode character for the given ASCII value\n",
    "\n",
    "str1=65\n",
    "print(\"chr_x=\",chr(str1))\n",
    "\n",
    "# bin() = returns a binary string prefixed with \"0b\" for the given integer number\n",
    "x=15\n",
    "print(\"15 in binary:\",bin(x))\n",
    "\n",
    "# type() = return the type of object for the given single object\n",
    "x=15.2\n",
    "s=True\n",
    "print(\"type_x=\",type(x))\n",
    "print(\"type_s=\",type(s))\n",
    "\n",
    "# id() = return the \"identity\" of an object\n",
    "x='a'\n",
    "print(\"address of x is:\",id(x))\n",
    "\n",
    "# min() = return the minimum value in a list\n",
    "my_list=[21,43,12,65,2,45]\n",
    "print(\"minimum of my list:\",min(my_list))\n",
    "\n",
    "# max() = return thr maximum value in a list\n",
    "my_list1=[21,43,65,2,45]\n",
    "print(\"maximum of my list:\",max(my_list1))\n",
    "\n",
    "\n",
    "# format() = returns the output based on the given format -- format(value[format_spec])\n",
    "# - binary format-- outputs the number in base 2\n",
    "# - octal format-- outputs the number in base 8\n",
    "# - fixed-point notation-- displays the number as a fixed-point number, the default precision is 6\n",
    "x=14\n",
    "y=25\n",
    "print(\"x value in binary:\",format(x,'b'))\n",
    "print(\"x value in octal:\",format(x,'o'))\n",
    "print(\"x value in fixed-point:\",format(x,'f'))\n",
    "\n",
    "# round() = return the nearest integer to its input -- round(number[,ndigits])\n",
    "# - first argument -- (number) is used to specify the value to be rounded\n",
    "# - second argument -- (ndigits) is used to specify the number of dicimal digits desired afer rounding\n",
    "\n",
    "x=17.9\n",
    "y=-18.3\n",
    "z=17.89\n",
    "print(\"x value is rounded to:\",round(x))\n",
    "print(\"y value is rounded to:\",round(y))\n",
    "print(\"z value is rounded to:\",round(z,0))\n",
    "print(\"z value is rounded to:\",round(z,1))\n",
    "print(\"z value is rounded to:\",round(z,2))\n",
    "\n",
    "# pow() = returns the computation od ab a**b\n",
    "\n",
    "a=5\n",
    "b=2\n",
    "c=3.0\n",
    "print(\"power (a**b):\",pow(a,b))\n",
    "print(\"power (a**c):\",pow(a,c))\n",
    "print(\"power:\",pow(a+b,3))\n",
    "\n",
    "import math\n",
    "\n",
    "# floor() = returns the largest integer less than or equal to x\n",
    "x=26.7\n",
    "print(\"floor:\",math.floor(x))\n",
    "\n",
    "# ceil() = returns the smallest integer grater than or equal to x\n",
    "x=23.8\n",
    "print(\"ceil:\",math.ceil(x))\n",
    "\n",
    "# sqrt() = returns the square root of x\n",
    "x=25\n",
    "print(\"square_root:\",math.sqrt(x))"
   ]
  },
  {
   "cell_type": "code",
   "execution_count": 1,
   "id": "236de5d6-8a6b-43ac-9454-a5c1ad5527c2",
   "metadata": {},
   "outputs": [
    {
     "name": "stdout",
     "output_type": "stream",
     "text": [
      "Sum: 148\n"
     ]
    }
   ],
   "source": [
    "# Program to find the sum of elements in a list\n",
    "\n",
    "# Sample list\n",
    "list2 = [21, 43, 12, 65, 2, 5]\n",
    "\n",
    "# Use built-in sum() to calculate total\n",
    "print(\"Sum:\", sum(list2))\n"
   ]
  },
  {
   "cell_type": "code",
   "execution_count": 10,
   "id": "903f56b0-0337-47b7-87b5-dcf088b7ee8e",
   "metadata": {},
   "outputs": [
    {
     "name": "stdout",
     "output_type": "stream",
     "text": [
      "1\n",
      "120\n"
     ]
    }
   ],
   "source": [
    "# recursive function \n",
    "def fact(n):\n",
    "    if n==0:\n",
    "        return 1\n",
    "    else:\n",
    "        return n*fact(n-1)\n",
    "print(fact(0))\n",
    "print(fact(5))"
   ]
  },
  {
   "cell_type": "markdown",
   "id": "e68412a3-912c-4021-971a-6bc70ca3fa3e",
   "metadata": {},
   "source": [
    "# strings and string manipulation"
   ]
  },
  {
   "cell_type": "code",
   "execution_count": 30,
   "id": "2471ebd9-6ef1-4ac0-b929-5b3b0664c58d",
   "metadata": {},
   "outputs": [
    {
     "name": "stdin",
     "output_type": "stream",
     "text": [
      "enter a string: car\n"
     ]
    },
    {
     "name": "stdout",
     "output_type": "stream",
     "text": [
      "subscript 0: c\n",
      "subscript 1: a\n",
      "subscript 2: r\n"
     ]
    }
   ],
   "source": [
    "# program to access each character with its positive subscript of a giving string \n",
    "str1=input(\"enter a string:\")\n",
    "index=0\n",
    "for i in str1:\n",
    "    print(f\"subscript {index}:\",i)\n",
    "    index+=1"
   ]
  },
  {
   "cell_type": "code",
   "execution_count": 32,
   "id": "0dbfd3f5-4992-4843-95f1-35783ecca230",
   "metadata": {},
   "outputs": [
    {
     "name": "stdin",
     "output_type": "stream",
     "text": [
      "enter a string: dog\n"
     ]
    },
    {
     "name": "stdout",
     "output_type": "stream",
     "text": [
      "subscript -1: g\n",
      "subscript -2: o\n",
      "subscript -3: d\n"
     ]
    }
   ],
   "source": [
    "# program to access each character with its negative subscript of a given string \n",
    "str1=input(\"enter a string:\")\n",
    "index=-1\n",
    "while index >= -(len(str1)):\n",
    "    print(f\"subscript {index}:\",str1[index])\n",
    "    index+=-1"
   ]
  },
  {
   "cell_type": "code",
   "execution_count": 33,
   "id": "94cf98ca-dd84-4218-8101-b6b42dc9426e",
   "metadata": {},
   "outputs": [
    {
     "name": "stdout",
     "output_type": "stream",
     "text": [
      "hello !! how are you\n",
      "hellO !! hOw are yOu\n"
     ]
    }
   ],
   "source": [
    "# replace function \n",
    "str1=\"hello !! how are you\"\n",
    "print(str1)\n",
    "print(str1.replace(\"o\",\"O\"))"
   ]
  },
  {
   "cell_type": "code",
   "execution_count": 34,
   "id": "5c4097d0-9b9e-417b-978a-ed99431933dc",
   "metadata": {},
   "outputs": [
    {
     "name": "stdout",
     "output_type": "stream",
     "text": [
      "concatenation: Welcome\tPython\n",
      "append: welcome tolearn python\n",
      "repeating: welcomewelcomewelcomewelcome\n",
      "slicing_1: p\n",
      "slicing_2: py\n",
      "slicing_3: pyt\n",
      "slicing_4: on\n",
      "slicing_5: python\n",
      "slicing_6: nohtyp\n"
     ]
    }
   ],
   "source": [
    "# STRING OPERATORS\n",
    "\n",
    "# concatenation(+)\n",
    "str1=\"Welcome\"\n",
    "str2=\"\\tPython\"\n",
    "print(\"concatenation:\",str1 + str2)\n",
    "\n",
    "# append (+=)\n",
    "str1=\"welcome to\"\n",
    "str1+=\"learn python\"\n",
    "print(\"append:\",str1)\n",
    "\n",
    "# repeating (*)\n",
    "str1=\"welcome\"\n",
    "print(\"repeating:\",str1*4)\n",
    "\n",
    "# string slicing -- str[start:end]\n",
    "\n",
    "str1=\"python\"\n",
    "print(\"slicing_1:\",str1[0])\n",
    "print(\"slicing_2:\",str1[0:2])\n",
    "print(\"slicing_3:\",str1[:3])\n",
    "print(\"slicing_4:\",str1[4:])\n",
    "print(\"slicing_5:\",str1[:])\n",
    "print(\"slicing_6:\",str1[::-1])"
   ]
  },
  {
   "cell_type": "code",
   "execution_count": 35,
   "id": "6be56a2e-6d43-44c1-8dc1-24ad6981a62b",
   "metadata": {},
   "outputs": [
    {
     "name": "stdout",
     "output_type": "stream",
     "text": [
      "C\n",
      "CO\n",
      "COM\n",
      "COMP\n",
      "COMPU\n",
      "COMPUT\n",
      "COMPUTE\n",
      "COMPUTER\n"
     ]
    }
   ],
   "source": [
    "# program to slice substring using for loop \n",
    "str1=\"COMPUTER\"\n",
    "index=0\n",
    "for i in str1:\n",
    "    print(str1[:index+1])\n",
    "    index+=1"
   ]
  },
  {
   "cell_type": "code",
   "execution_count": 36,
   "id": "b48eae0c-ae44-4dd1-93ca-f1217d211f1f",
   "metadata": {},
   "outputs": [
    {
     "name": "stdout",
     "output_type": "stream",
     "text": [
      "length of the string: 8\n",
      "capitalize: Chennai\n",
      "center: *welcome**\n",
      "find: 15\n",
      "find1: 8\n",
      "find2: 4\n",
      "isalnum1: True\n",
      "isalnum2: False\n",
      "isalpha1: True\n",
      "isalpha2: False\n",
      "isdigit1: False\n",
      "isdigit2: True\n",
      "lower: save earth\n",
      "islower: True\n",
      "upper: WELCOME PYTHON\n",
      "isupper: True\n",
      "title: Python Notebook\n",
      "count1: 1\n",
      "count2: 4\n",
      "ord(char): 65\n",
      "ord(char)1: 66\n",
      "char(ASCII): a\n",
      "char(ASCII)1: W\n"
     ]
    }
   ],
   "source": [
    "# BUILT IN STRING FUNCTION \n",
    "\n",
    "# len(str) = returns the length of the string \n",
    "A=\"Computer\"\n",
    "print(\"length of the string:\",len(A))\n",
    "\n",
    "# capitalize() = used to capitalize the first character of the string \n",
    "city=\"chennai\"\n",
    "print(\"capitalize:\",city.capitalize())\n",
    "\n",
    "# center(width, fillchar) = simple and efficient way to center-align strings within a given width\n",
    "str1=\"welcome\"\n",
    "print(\"center:\",str1.center(10,\"*\"))\n",
    "\n",
    "# find(sub[,start[,end]]) = returns the lowest index of the substring sub in a string, optionally between positions start and end.\n",
    "str1=\"Hello, welcome to my world.\"\n",
    "print(\"find:\",str1.find('to'))\n",
    "print(\"find1:\",str1.find('e',2))\n",
    "print(\"find2:\",str1.find('o',2,5))\n",
    "\n",
    "# isalnum() = It returns True if all characters in the string are alphanumeric (letters and numbers), otherwise False\n",
    "print(\"isalnum1:\",\"abc123\".isalnum())  \n",
    "print(\"isalnum2:\",\"abc 123\".isalnum())  \n",
    "\n",
    "# isalpha() = returns true if the string contains onlt letters otherwise false.\n",
    "print(\"isalpha1:\",\"chennai\".isalpha())  \n",
    "print(\"isalpha2:\",\"abc 123\".isalpha()) \n",
    "\n",
    "# isdigit() = returns true if the string contains numbers only otherwise false.\n",
    "print(\"isdigit1:\",\"chennai123\".isdigit())  \n",
    "print(\"isdigit2:\",\"123\".isdigit()) \n",
    "\n",
    "# lower() = return the exact copy of the string with all the letters in lowercase\n",
    "str1=\"SAVE EARTH\"\n",
    "print(\"lower:\",str1.lower())\n",
    "\n",
    "# islower() = returns true if the string is in lowercase\n",
    "str1=\"welcome\"\n",
    "print(\"islower:\",str1.islower())\n",
    "\n",
    "# upper() = return the exact copy of the string with all the letters in uppercase\n",
    "str1=\"welcome python\"\n",
    "print(\"upper:\",str1.upper())\n",
    "\n",
    "# isupper() = returns true if the string is in uppercase\n",
    "str1=\"WELCOME\"\n",
    "print(\"isupper:\",str1.isupper())\n",
    "\n",
    "# title() = returns a string in title case\n",
    "str1=\"python notebook\"\n",
    "print(\"title:\",str1.title())\n",
    "\n",
    "# count(str.beg,end) \n",
    "## substring – The text you want to count, start (optional) – Index to start searching from, end (optional) – Index to stop searching.\n",
    "str1=\"operators can be used with strings\"\n",
    "print(\"count1:\",str1.count('can'))\n",
    "print(\"count2:\",str1.count('s'))\n",
    "\n",
    "# ord(char) = returns the ASCII code of the character\n",
    "ch='A'\n",
    "print(\"ord(char):\",ord(ch))\n",
    "print(\"ord(char)1:\",ord('B'))\n",
    "\n",
    "# chr(ASCII) = returns the character represented by a ASCII \n",
    "ch=97\n",
    "print(\"char(ASCII):\",chr(ch))\n",
    "print(\"char(ASCII)1:\",chr(87))"
   ]
  },
  {
   "cell_type": "code",
   "execution_count": 37,
   "id": "a79945a6-180c-49db-a5a3-3b3c1249fd9b",
   "metadata": {},
   "outputs": [
    {
     "name": "stdin",
     "output_type": "stream",
     "text": [
      "enter a word: gang\n"
     ]
    },
    {
     "name": "stdout",
     "output_type": "stream",
     "text": [
      "gang is not a palindrome\n"
     ]
    }
   ],
   "source": [
    "# program to check whether the given string is palindrome or not \n",
    "ch=input(\"enter a word:\")\n",
    "if ch ==ch[::-1]:\n",
    "    print(ch,\"is a palindrome\")\n",
    "else:\n",
    "    print(ch,\"is not a palindrome\")\n"
   ]
  },
  {
   "cell_type": "code",
   "execution_count": 45,
   "id": "5c60d2ca-fb53-4567-b5fc-6bb3c28e443e",
   "metadata": {},
   "outputs": [
    {
     "name": "stdout",
     "output_type": "stream",
     "text": [
      "*\n",
      "**\n",
      "***\n",
      "****\n",
      "*****\n"
     ]
    }
   ],
   "source": [
    "# program to display the following pattern\n",
    "# *\n",
    "# * *\n",
    "# * * *\n",
    "# * * * *\n",
    "# * * * * *\n",
    "\n",
    "str1='*'\n",
    "i=1\n",
    "while i<=5:\n",
    "    print(str1*i)\n",
    "    i+=1"
   ]
  },
  {
   "cell_type": "code",
   "execution_count": 46,
   "id": "a8930f72-4ed9-443d-bda1-979611d181c4",
   "metadata": {},
   "outputs": [
    {
     "name": "stdin",
     "output_type": "stream",
     "text": [
      "enter a word: galaxy\n"
     ]
    },
    {
     "name": "stdout",
     "output_type": "stream",
     "text": [
      "the given string contains 2 vowels and 4 consonants\n"
     ]
    }
   ],
   "source": [
    "# number of vowels and consonants in the given string \n",
    "str1=input(\"enter a word:\")\n",
    "str2='AEIOUaeiou'\n",
    "v,c=0,0\n",
    "for i in str1:\n",
    "    if i in str2:\n",
    "        v+=1\n",
    "    else:\n",
    "        c+=1\n",
    "print(f\"the given string contains {v} vowels and {c} consonants\")"
   ]
  },
  {
   "cell_type": "code",
   "execution_count": 47,
   "id": "a837160b-3ab3-4881-a573-9e994d8b2ea8",
   "metadata": {},
   "outputs": [
    {
     "name": "stdout",
     "output_type": "stream",
     "text": [
      "Aate\tBate\tCate\tDate\tEate\tFate\tGate\tHate\t"
     ]
    }
   ],
   "source": [
    "# create an abecedarian series (abecedarian refers list of elements appear in alphabetical order)\n",
    "str1='ABCDEFGH'\n",
    "str2=\"ate\"\n",
    "for i in str1:\n",
    "    print((i+str2),end='\\t')"
   ]
  },
  {
   "cell_type": "code",
   "execution_count": 48,
   "id": "1557c363-b97f-4738-a285-d68329fe50a7",
   "metadata": {},
   "outputs": [
    {
     "name": "stdin",
     "output_type": "stream",
     "text": [
      "Enter a string:  earth\n"
     ]
    },
    {
     "name": "stdout",
     "output_type": "stream",
     "text": [
      "String after removing vowels: rth\n"
     ]
    }
   ],
   "source": [
    "# program that accept a string from thr user and display the same after removing vowels from it \n",
    "text = input(\"Enter a string: \")\n",
    "vowels = \"aeiouAEIOU\"\n",
    "result = \"\"\n",
    "for char in text:\n",
    "    if char not in vowels:\n",
    "        result += char\n",
    "print(\"String after removing vowels:\", result)"
   ]
  },
  {
   "cell_type": "code",
   "execution_count": 49,
   "id": "c9ae7382-ad0d-4852-924c-0218421a7592",
   "metadata": {},
   "outputs": [
    {
     "name": "stdin",
     "output_type": "stream",
     "text": [
      "Enter a string:  software\n",
      "Enter a character to count:  e\n"
     ]
    },
    {
     "name": "stdout",
     "output_type": "stream",
     "text": [
      "The character 'e' appears 1 times.\n"
     ]
    }
   ],
   "source": [
    "# program that count the occurrences of a character in a string \n",
    "text = input(\"Enter a string: \")\n",
    "char = input(\"Enter a character to count: \")\n",
    "count = text.count(char)\n",
    "print(f\"The character '{char}' appears {count} times.\")"
   ]
  },
  {
   "cell_type": "code",
   "execution_count": 50,
   "id": "913fd8a7-f080-4998-89bb-17d9900deb2b",
   "metadata": {},
   "outputs": [
    {
     "name": "stdin",
     "output_type": "stream",
     "text": [
      "enter a word: power\n"
     ]
    },
    {
     "name": "stdout",
     "output_type": "stream",
     "text": [
      "length of the string: 5\n"
     ]
    }
   ],
   "source": [
    "# Program to find the length of a string\n",
    "text=input(\"enter a word:\")\n",
    "print(\"length of the string:\",len(text))"
   ]
  },
  {
   "cell_type": "code",
   "execution_count": 1,
   "id": "3a32e9c9-00fe-448b-9c66-c21d6c59ba15",
   "metadata": {},
   "outputs": [
    {
     "name": "stdin",
     "output_type": "stream",
     "text": [
      "enter a word: take care take care\n"
     ]
    },
    {
     "name": "stdout",
     "output_type": "stream",
     "text": [
      "word occurences:\n",
      "care : 2\n",
      "care : 2\n"
     ]
    }
   ],
   "source": [
    "# Program to count the occurrences of each word in a string\n",
    "text=input(\"enter a word:\")\n",
    "words=text.split()\n",
    "word_count={}\n",
    "for word in words:\n",
    "    if word in word_count:\n",
    "        word_count[word] +=1\n",
    "    else:\n",
    "        word_count[word] = 1\n",
    "        \n",
    "print(\"word occurences:\")\n",
    "for wword, count in word_count.items():\n",
    "    print(word,\":\",count)"
   ]
  },
  {
   "cell_type": "code",
   "execution_count": 2,
   "id": "bee247d5-4c38-447c-8ed5-18eddd9f0951",
   "metadata": {},
   "outputs": [
    {
     "name": "stdout",
     "output_type": "stream",
     "text": [
      "\n",
      "modified string:\n",
      "\n",
      ">>>This is line one.\n",
      ">>>This is line two.\n",
      ">>>This is line three.\n"
     ]
    }
   ],
   "source": [
    "#  Program to add a prefix text to all the lines in a string\n",
    "text = \"\"\"This is line one.\n",
    "This is line two.\n",
    "This is line three.\"\"\"\n",
    "prefix=\">>>\"\n",
    "lines = text.split('\\n')\n",
    "prefixed_lines=[prefix + line for line in lines]\n",
    "result = '\\n'.join(prefixed_lines)\n",
    "print(\"\\nmodified string:\\n\")\n",
    "print(result)"
   ]
  },
  {
   "cell_type": "code",
   "execution_count": 3,
   "id": "36661e88-fe76-4786-8958-f12cf054e5b3",
   "metadata": {},
   "outputs": [
    {
     "name": "stdin",
     "output_type": "stream",
     "text": [
      "enter a integer: 23\n",
      "enter width: 6\n"
     ]
    },
    {
     "name": "stdout",
     "output_type": "stream",
     "text": [
      "23****\n"
     ]
    }
   ],
   "source": [
    "# Program to print integers with ‘*’ on the right of specified width\n",
    "num = int(input(\"enter a integer:\"))\n",
    "width= int(input(\"enter width:\"))\n",
    "print(str(num).ljust(width,\"*\")) # left-justified string of a specified width"
   ]
  },
  {
   "cell_type": "code",
   "execution_count": 4,
   "id": "14cf1c59-dc38-433c-a8ac-f9e9807a17ca",
   "metadata": {},
   "outputs": [
    {
     "name": "stdout",
     "output_type": "stream",
     "text": [
      "hi***\n"
     ]
    }
   ],
   "source": [
    "text = \"hi\"\n",
    "print(text.ljust(5, '*'))"
   ]
  },
  {
   "cell_type": "code",
   "execution_count": 5,
   "id": "1b420218-4cda-4c40-bbad-35c817db9163",
   "metadata": {},
   "outputs": [
    {
     "name": "stdin",
     "output_type": "stream",
     "text": [
      "enter a string: value\n"
     ]
    },
    {
     "name": "stdout",
     "output_type": "stream",
     "text": [
      "mirror image: eulav\n"
     ]
    }
   ],
   "source": [
    "#  Program to create a mirror image of the given string\n",
    "text=input(\"enter a string:\")\n",
    "mirror=text[::-1]\n",
    "print(\"mirror image:\",mirror)"
   ]
  },
  {
   "cell_type": "code",
   "execution_count": 6,
   "id": "26a6b075-0fe4-4791-a1b6-d73fa721ed0e",
   "metadata": {},
   "outputs": [
    {
     "name": "stdin",
     "output_type": "stream",
     "text": [
      "enter a string: laptop\n",
      "enter character to remove: o\n"
     ]
    },
    {
     "name": "stdout",
     "output_type": "stream",
     "text": [
      "string after removing character: laptp\n"
     ]
    }
   ],
   "source": [
    "# Program to remove all occurrences of a given character in a string\n",
    "text=input(\"enter a string:\")\n",
    "ch = input (\"enter character to remove:\")\n",
    "result=\"\"\n",
    "for c in text:\n",
    "    if c != ch:\n",
    "        result +=c\n",
    "print(\"string after removing character:\",result)"
   ]
  },
  {
   "cell_type": "code",
   "execution_count": 7,
   "id": "6d59a6e6-beb8-4d45-8a77-58e21e14f2b3",
   "metadata": {},
   "outputs": [
    {
     "name": "stdin",
     "output_type": "stream",
     "text": [
      "enter a first string: mobile\n",
      "enter a second string: phone\n"
     ]
    },
    {
     "name": "stdout",
     "output_type": "stream",
     "text": [
      "append string: mobilephone\n"
     ]
    }
   ],
   "source": [
    "# Program to append a string to another string without using +=\n",
    "str1 = input(\"enter a first string:\")\n",
    "str2 = input(\"enter a second string:\")\n",
    "result = (f\"{str1}{str2}\")\n",
    "print('append string:',result)"
   ]
  },
  {
   "cell_type": "code",
   "execution_count": 2,
   "id": "66958ff8-d040-48c6-ae27-8297dca95db0",
   "metadata": {},
   "outputs": [
    {
     "name": "stdin",
     "output_type": "stream",
     "text": [
      "enter first string: cat\n",
      "enter second string: dog\n"
     ]
    },
    {
     "name": "stdout",
     "output_type": "stream",
     "text": [
      "after swapping\n",
      "first string: dog\n",
      "second string: cat\n"
     ]
    }
   ],
   "source": [
    "# Program to swap two strings\n",
    "a= input(\"enter first string:\")\n",
    "b = input(\"enter second string:\")\n",
    "a,b=b,a\n",
    "print(\"after swapping\")\n",
    "print(\"first string:\",a)\n",
    "print(\"second string:\",b)"
   ]
  },
  {
   "cell_type": "code",
   "execution_count": 4,
   "id": "412f28e5-c7a2-4077-acbd-3cdcee6cd747",
   "metadata": {},
   "outputs": [
    {
     "name": "stdin",
     "output_type": "stream",
     "text": [
      "enter a string: I like apples and apples are sweet\n",
      "enter text to be replaced: apples\n",
      "enter new text: banana\n"
     ]
    },
    {
     "name": "stdout",
     "output_type": "stream",
     "text": [
      "string after replacement: I like banana and banana are sweet\n"
     ]
    }
   ],
   "source": [
    "# Program to replace a string with another without using replace()\n",
    "text = input(\"enter a string:\")\n",
    "old = input(\"enter text to be replaced:\")\n",
    "new = input(\"enter new text:\")\n",
    "parts = text.split(old)\n",
    "result = new.join(parts)\n",
    "print(\"string after replacement:\",result)"
   ]
  },
  {
   "cell_type": "code",
   "execution_count": 5,
   "id": "11a37451-a8ae-45fb-a292-f26f2175cc3f",
   "metadata": {},
   "outputs": [
    {
     "name": "stdin",
     "output_type": "stream",
     "text": [
      "Enter multiple lines (use \\n to separate lines):  Hello world\\nPython is fun\\nLet's code\n"
     ]
    },
    {
     "name": "stdout",
     "output_type": "stream",
     "text": [
      "Lines: 3\n",
      "Words: 7\n",
      "Characters: 34\n"
     ]
    }
   ],
   "source": [
    "# Program to count the number of characters, words, and lines in a string\n",
    "text = input(\"Enter multiple lines (use \\\\n to separate lines): \")\n",
    "\n",
    "# Count lines\n",
    "lines = text.split(\"\\\\n\")\n",
    "\n",
    "# Count words\n",
    "words = text.replace(\"\\\\n\", \" \").split()\n",
    "\n",
    "# Count characters (excluding '\\n')\n",
    "characters = len(text.replace(\"\\\\n\", \"\"))\n",
    "\n",
    "# Print results\n",
    "print(\"Lines:\", len(lines))\n",
    "print(\"Words:\", len(words))\n",
    "print(\"Characters:\", characters)\n"
   ]
  },
  {
   "cell_type": "markdown",
   "id": "040b5545-6b42-4c7c-8ae5-29d2dad2af02",
   "metadata": {},
   "source": [
    "# List"
   ]
  },
  {
   "cell_type": "code",
   "execution_count": 3,
   "id": "0d48421b-3005-4755-9904-84128fefe3d2",
   "metadata": {},
   "outputs": [
    {
     "name": "stdout",
     "output_type": "stream",
     "text": [
      "10\n",
      "23\n",
      "43\n",
      "45\n"
     ]
    }
   ],
   "source": [
    "# accessing all the elements of a list\n",
    "marks=[10,23,43,45]\n",
    "i=0\n",
    "while i< 4:\n",
    "    print(marks[i])\n",
    "    i=i+1"
   ]
  },
  {
   "cell_type": "code",
   "execution_count": 6,
   "id": "371ddc3a-7683-4331-a144-32499d3d6e80",
   "metadata": {},
   "outputs": [
    {
     "name": "stdout",
     "output_type": "stream",
     "text": [
      "45\n",
      "43\n",
      "23\n",
      "10\n"
     ]
    }
   ],
   "source": [
    "# reverse indexing \n",
    "marks=[10,23,43,45]\n",
    "i = -1\n",
    "while i>= -4:\n",
    "    print(marks[i])\n",
    "    i= i + -1"
   ]
  },
  {
   "cell_type": "code",
   "execution_count": 7,
   "id": "d8eac17b-567c-44ec-8241-600c04d02486",
   "metadata": {},
   "outputs": [
    {
     "data": {
      "text/plain": [
       "4"
      ]
     },
     "execution_count": 7,
     "metadata": {},
     "output_type": "execute_result"
    }
   ],
   "source": [
    "# list length\n",
    "my_list=[\"samsung_galaxy\",\"apple\",\"oneplus\",\"google_pixel\"]\n",
    "len(my_list)"
   ]
  },
  {
   "cell_type": "code",
   "execution_count": 8,
   "id": "b76cca85-138a-4a58-a144-c6d20ea93861",
   "metadata": {},
   "outputs": [
    {
     "name": "stdout",
     "output_type": "stream",
     "text": [
      "samsung_galaxy\n",
      "apple\n",
      "oneplus\n",
      "google_pixel\n"
     ]
    }
   ],
   "source": [
    "# program to display elements in a list using loop\n",
    "my_list1=[\"samsung_galaxy\",\"apple\",\"oneplus\",\"google_pixel\"]\n",
    "i=0\n",
    "while i < len(my_list1):\n",
    "    print(my_list1[i])\n",
    "    i = i + 1"
   ]
  },
  {
   "cell_type": "code",
   "execution_count": 9,
   "id": "bc8bc122-9d80-4ca0-bc58-e8bc7244032f",
   "metadata": {},
   "outputs": [
    {
     "name": "stdout",
     "output_type": "stream",
     "text": [
      "72\n",
      "75\n",
      "67\n",
      "87\n",
      "65\n"
     ]
    }
   ],
   "source": [
    "# accessing element using for loop\n",
    "marks=[72,75,67,87,65]\n",
    "for x in marks:\n",
    "    print(x)"
   ]
  },
  {
   "cell_type": "code",
   "execution_count": 10,
   "id": "ffd15d0f-f2e2-4205-85be-fd653eeb4076",
   "metadata": {},
   "outputs": [
    {
     "name": "stdout",
     "output_type": "stream",
     "text": [
      "elements before update\n",
      "22\n",
      "33\n",
      "44\n",
      "55\n",
      "66\n",
      "elements after update\n",
      "22\n",
      "33\n",
      "88\n",
      "55\n",
      "66\n"
     ]
    }
   ],
   "source": [
    "# changing list elements\n",
    "mylist=[22,33,44,55,66]\n",
    "print(\"elements before update\")\n",
    "for x in mylist:\n",
    "    print(x)\n",
    "mylist[2]=88\n",
    "print(\"elements after update\")\n",
    "for y in mylist:\n",
    "    print(y)"
   ]
  },
  {
   "cell_type": "code",
   "execution_count": 11,
   "id": "35647ab0-1a45-4b92-8a59-8c0e9164b5f6",
   "metadata": {},
   "outputs": [
    {
     "name": "stdout",
     "output_type": "stream",
     "text": [
      "original list\n",
      "22\n",
      "33\n",
      "44\n",
      "55\n",
      "66\n",
      "after update\n",
      "1\n",
      "2\n",
      "3\n",
      "4\n",
      "5\n"
     ]
    }
   ],
   "source": [
    "# program to update/change range if values\n",
    "mylist=[22,33,44,55,66]\n",
    "print(\"original list\")\n",
    "for x in mylist:\n",
    "    print(x)\n",
    "mylist[0:5]=1,2,3,4,5\n",
    "print(\"after update\")\n",
    "for y in mylist:\n",
    "    print(y)"
   ]
  },
  {
   "cell_type": "code",
   "execution_count": 12,
   "id": "a8bf0413-200d-4163-aac6-1b2db89dd84b",
   "metadata": {},
   "outputs": [
    {
     "name": "stdout",
     "output_type": "stream",
     "text": [
      "[34, 45, 48, 44, 90]\n"
     ]
    }
   ],
   "source": [
    "# adding more elements in a list append()\n",
    "mylist=[34,45,48,44]\n",
    "mylist.append(90)\n",
    "print(mylist)"
   ]
  },
  {
   "cell_type": "code",
   "execution_count": 15,
   "id": "1e2a093e-4e9f-4179-850e-6fdbfaf0bbfa",
   "metadata": {},
   "outputs": [
    {
     "name": "stdout",
     "output_type": "stream",
     "text": [
      "[33, 54, 'ram', 'lenin', 'vimal']\n",
      "[33, 54, 'ram', 'lenin', 'srinivasan', 'vimal']\n"
     ]
    }
   ],
   "source": [
    "# insert() function\n",
    "mylist=[33,54,\"ram\",\"lenin\",\"vimal\"]\n",
    "print(mylist)\n",
    "mylist.insert(4,\"srinivasan\")\n",
    "print(mylist)"
   ]
  },
  {
   "cell_type": "code",
   "execution_count": 16,
   "id": "0caa8a7f-7a91-4bc5-9d76-ce0a36a723b2",
   "metadata": {},
   "outputs": [
    {
     "name": "stdout",
     "output_type": "stream",
     "text": [
      "[34, 45, 48, 44, 78, 89, 90]\n"
     ]
    }
   ],
   "source": [
    "# extend() \n",
    "mylist=[34,45,48,44]\n",
    "mylist.extend([78,89,90])\n",
    "print(mylist)"
   ]
  },
  {
   "cell_type": "code",
   "execution_count": 21,
   "id": "4e517a86-e6ca-46cb-a176-d2a96a36702d",
   "metadata": {},
   "outputs": [
    {
     "name": "stdout",
     "output_type": "stream",
     "text": [
      "['tamil', 'english', 'maths', 'IT', 'science']\n",
      "['tamil', 'english', 'maths', 'science']\n",
      "['tamil', 'english', 'maths']\n"
     ]
    }
   ],
   "source": [
    "# deleting elements form a list \n",
    "my_sub=[\"tamil\",\"english\",\"maths\",\"IT\",\"science\"]\n",
    "print(my_sub)\n",
    "del my_sub[3]\n",
    "print(my_sub)\n",
    "del my_sub[3:5]\n",
    "print(my_sub)\n",
    "del my_sub"
   ]
  },
  {
   "cell_type": "code",
   "execution_count": 22,
   "id": "51c2e1e4-c2f6-4907-8bc7-0a4789f598e9",
   "metadata": {},
   "outputs": [
    {
     "ename": "NameError",
     "evalue": "name 'my_sub' is not defined",
     "output_type": "error",
     "traceback": [
      "\u001b[1;31m---------------------------------------------------------------------------\u001b[0m",
      "\u001b[1;31mNameError\u001b[0m                                 Traceback (most recent call last)",
      "Cell \u001b[1;32mIn[22], line 1\u001b[0m\n\u001b[1;32m----> 1\u001b[0m my_sub\n",
      "\u001b[1;31mNameError\u001b[0m: name 'my_sub' is not defined"
     ]
    }
   ],
   "source": [
    "my_sub"
   ]
  },
  {
   "cell_type": "code",
   "execution_count": 23,
   "id": "aee59ea8-0e9f-4523-a1bf-11611f6d1345",
   "metadata": {},
   "outputs": [
    {
     "name": "stdout",
     "output_type": "stream",
     "text": [
      "[1, 2, 3, 4, 'b', 'c']\n"
     ]
    }
   ],
   "source": [
    "# remove() = delete one or more elements\n",
    "my_list=[1,2,3,4,\"a\",\"b\",\"c\"]\n",
    "my_list.remove('a')\n",
    "print(my_list)"
   ]
  },
  {
   "cell_type": "code",
   "execution_count": 25,
   "id": "a4c5d762-ce04-4554-ae89-4080ca64a4fc",
   "metadata": {},
   "outputs": [
    {
     "name": "stdout",
     "output_type": "stream",
     "text": [
      "[1, 2, 3, 4, 5, 6]\n"
     ]
    }
   ],
   "source": [
    "# pop() = remove using index value\n",
    "my_list=[1,22,2,3,4,5,6]\n",
    "my_list.pop(1)\n",
    "print(my_list)"
   ]
  },
  {
   "cell_type": "code",
   "execution_count": 26,
   "id": "75aef948-5e73-4e74-8a02-898aa3c3f7bf",
   "metadata": {},
   "outputs": [
    {
     "name": "stdout",
     "output_type": "stream",
     "text": [
      "[]\n"
     ]
    }
   ],
   "source": [
    "# clear() = remove only elements\n",
    "my_list.clear()\n",
    "print(my_list)"
   ]
  },
  {
   "cell_type": "code",
   "execution_count": 27,
   "id": "46458a18-1734-4161-b246-88372460d432",
   "metadata": {},
   "outputs": [
    {
     "name": "stdout",
     "output_type": "stream",
     "text": [
      "1\n",
      "2\n",
      "3\n",
      "4\n",
      "5\n",
      "6\n",
      "7\n",
      "8\n",
      "9\n",
      "10\n"
     ]
    }
   ],
   "source": [
    "# list and range() function \n",
    "for x in range(1,11):\n",
    "    print(x)"
   ]
  },
  {
   "cell_type": "code",
   "execution_count": 28,
   "id": "56cdfe0d-e261-415d-9040-84e738db5eb3",
   "metadata": {},
   "outputs": [
    {
     "name": "stdout",
     "output_type": "stream",
     "text": [
      "2\n",
      "4\n",
      "6\n",
      "8\n",
      "10\n"
     ]
    }
   ],
   "source": [
    "for x in range(2,11,2):\n",
    "    print(x)"
   ]
  },
  {
   "cell_type": "code",
   "execution_count": 29,
   "id": "9c5e7d6f-4d39-4509-bd60-2a49c3d493ba",
   "metadata": {},
   "outputs": [
    {
     "name": "stdout",
     "output_type": "stream",
     "text": [
      "[2, 4, 6, 8, 10, 12, 14, 16, 18]\n"
     ]
    }
   ],
   "source": [
    "# creating a list with series of values\n",
    "## list_variable = list(range())\n",
    "\n",
    "my_list=list(range(2,20,2))\n",
    "print(my_list)"
   ]
  },
  {
   "cell_type": "code",
   "execution_count": 31,
   "id": "20c240ab-28a4-42f2-9712-1ec64012f74d",
   "metadata": {},
   "outputs": [
    {
     "name": "stdout",
     "output_type": "stream",
     "text": [
      "[1, 4, 9, 16, 25, 36, 49, 64, 81, 100]\n"
     ]
    }
   ],
   "source": [
    "# generating squares of first 10 natural numbers\n",
    "squares= []\n",
    "for x in range (1,11):\n",
    "    s=x**2\n",
    "    squares.append(s)\n",
    "print(squares)"
   ]
  },
  {
   "cell_type": "code",
   "execution_count": 32,
   "id": "1c65fa60-8c9b-4e88-83fe-55598b219f97",
   "metadata": {},
   "outputs": [
    {
     "name": "stdout",
     "output_type": "stream",
     "text": [
      "[1, 4, 9, 16, 25, 36, 49, 64, 81, 100]\n"
     ]
    }
   ],
   "source": [
    "# list comprehensions\n",
    "## list = [expression for variable in range]\n",
    "### generating squares of first 10 natural numbers using the concept of list comprehension\n",
    "\n",
    "s=[x**2 for x in range(1,11)]\n",
    "print(s)"
   ]
  },
  {
   "cell_type": "code",
   "execution_count": 41,
   "id": "d23ca372-eee7-482c-85ad-a267061f942d",
   "metadata": {},
   "outputs": [
    {
     "name": "stdout",
     "output_type": "stream",
     "text": [
      "copy list in x: [11, 12, 13, 55]\n",
      "count the particular elements: 2\n",
      "index value: 0\n",
      "reverse: [77, 56, 23, 11]\n",
      "sort: ['a', 'b', 'd', 'f', 'g', 'h', 'i', 'j', 'k', 'n', 'r', 'u', 'v', 'y']\n",
      "reverse sort: ['y', 'v', 'u', 'r', 'n', 'k', 'j', 'i', 'h', 'g', 'f', 'd', 'b', 'a']\n",
      "maximum: 898\n",
      "minimum: 346\n",
      "sum: 4733\n"
     ]
    }
   ],
   "source": [
    "# LIST FUNCTIONS \n",
    "\n",
    "# copy() = returns a copy of the list \n",
    "mylst=[11,12,13,55]\n",
    "x=mylst.copy()\n",
    "print(\"copy list in x:\",x)\n",
    "\n",
    "# count() = returns the no of similar elements present in the last\n",
    "mylst=[33,44,55,66,66,7,77]\n",
    "x=mylst.count(66)\n",
    "print(\"count the particular elements:\",x)\n",
    "\n",
    "# index() = returns the index value of the first recurring elements\n",
    "mylst=[34,65,89,90]\n",
    "x=mylst.index(34)\n",
    "print(\"index value:\",x)\n",
    "\n",
    "# reverse() = returns the eorder of the element in the list \n",
    "mylst=[11,23,56,77]\n",
    "mylst.reverse()\n",
    "print(\"reverse:\",mylst)\n",
    "\n",
    "# sort() = sorts the element in the list -- list.sort(reverse=True|False, key=myfunc)\n",
    "mylst=[\"d\",\"g\",\"h\",\"u\",\"y\",\"r\",\"f\",\"a\",\"n\",\"j\",\"k\",\"i\",\"b\",\"v\"]\n",
    "mylst.sort()\n",
    "print(\"sort:\",mylst)\n",
    "mylst.sort(reverse=True)\n",
    "print(\"reverse sort:\",mylst)\n",
    "\n",
    "# max(), min(), sum()\n",
    "mylst=[724,676,737,565,346,787,898]\n",
    "print(\"maximum:\",max(mylst))\n",
    "print(\"minimum:\",min(mylst))\n",
    "print(\"sum:\",sum(mylst))\n"
   ]
  },
  {
   "cell_type": "code",
   "execution_count": 43,
   "id": "f037c256-4090-447f-b69b-4f83e70faad9",
   "metadata": {},
   "outputs": [
    {
     "name": "stdout",
     "output_type": "stream",
     "text": [
      "[0, 4, 8, 12, 16, 20, 24, 28, 32, 36, 40]\n"
     ]
    }
   ],
   "source": [
    "# program that creates a list of numbers from 1 to 20 that are divisible by 4\n",
    "divby4=[]\n",
    "for i in range(41):\n",
    "    if (i%4==0):\n",
    "        divby4.append(i)\n",
    "print(divby4)"
   ]
  },
  {
   "cell_type": "code",
   "execution_count": 44,
   "id": "2cdfc333-3cbb-487d-b24e-d9bc49e556c7",
   "metadata": {},
   "outputs": [
    {
     "name": "stdin",
     "output_type": "stream",
     "text": [
      "enter the name of the country: japan\n"
     ]
    },
    {
     "name": "stdout",
     "output_type": "stream",
     "text": [
      "japan is not a member of BRICS\n"
     ]
    }
   ],
   "source": [
    "# program to difine a list of countries that are a member of BRICS. chech whether a country is member of BRICS or not\n",
    "country=[\"india\",\"russia\",\"srilanka\",\"china\",\"brazil\"]\n",
    "is_member=input(\"enter the name of the country:\")\n",
    "if is_member in country:\n",
    "    print(is_member,\"is the member of BRICS\")\n",
    "else:\n",
    "    print(is_member,\"is not a member of BRICS\")"
   ]
  },
  {
   "cell_type": "code",
   "execution_count": 3,
   "id": "49cc67dd-6bf6-41ff-a4f9-de951e21cc8a",
   "metadata": {},
   "outputs": [
    {
     "name": "stdin",
     "output_type": "stream",
     "text": [
      "Enter mark for TAMIL:  67\n",
      "Enter mark for ENGLISH:  66\n",
      "Enter mark for MATHS:  78\n",
      "Enter mark for SCIENCE:  89\n",
      "Enter mark for SOCIAL:  90\n"
     ]
    },
    {
     "name": "stdout",
     "output_type": "stream",
     "text": [
      "1. TAMIL mark = 67\n",
      "2. ENGLISH mark = 66\n",
      "3. MATHS mark = 78\n",
      "4. SCIENCE mark = 89\n",
      "5. SOCIAL mark = 90\n",
      "Total marks = 390\n"
     ]
    }
   ],
   "source": [
    "# program to read marks of six subjects and to print the marks scored in each subject and show the total marks\n",
    "marks = []\n",
    "subjects = [\"TAMIL\", \"ENGLISH\", \"MATHS\", \"SCIENCE\", \"SOCIAL\"]\n",
    "for i in range(len(subjects)):\n",
    "    m = int(input(\"Enter mark for {}: \".format(subjects[i])))\n",
    "    marks.append(m)\n",
    "for j in range(len(marks)):\n",
    "    print(\"{}. {} mark = {}\".format(j+1, subjects[j], marks[j]))\n",
    "print(\"Total marks =\", sum(marks))"
   ]
  },
  {
   "cell_type": "code",
   "execution_count": 11,
   "id": "76fd50f8-8487-402f-8f78-a0eb6f20c752",
   "metadata": {},
   "outputs": [
    {
     "name": "stdin",
     "output_type": "stream",
     "text": [
      "enter price of items 1: 5\n",
      "enter price of items 2: 10\n",
      "enter price of items 3: 15\n",
      "enter price of items 4: 20\n",
      "enter price of items 5: 25\n"
     ]
    },
    {
     "name": "stdout",
     "output_type": "stream",
     "text": [
      "Price for item 1 = Rs 5\n",
      "Price for item 2 = Rs 10\n",
      "Price for item 3 = Rs 15\n",
      "Price for item 4 = Rs 20\n",
      "Price for item 5 = Rs 25\n",
      "sum of all prices=r\\Rs. 75\n",
      "product of all prices=Rs. 375000\n",
      "average of all prices = Rs. 15.0\n"
     ]
    }
   ],
   "source": [
    "# program to read prices of 5 items in a list and then display sum of all the prices, product of all the prices and find the average \n",
    "items=[]\n",
    "prod=1\n",
    "for i in range(5):\n",
    "    p=int(input(\"enter price of items {}:\".format(i+1)))\n",
    "    items.append(p)\n",
    "for j in range(len(items)):\n",
    "    print(\"Price for item {} = Rs {}\".format(j + 1, items[j]))\n",
    "    prod *= items[j]\n",
    "print(\"sum of all prices=r\\Rs.\",sum(items))\n",
    "print(\"product of all prices=Rs.\",prod)\n",
    "print(\"average of all prices = Rs.\",sum(items) / len(items))"
   ]
  },
  {
   "cell_type": "code",
   "execution_count": 13,
   "id": "753252f2-fcdf-4349-9ccf-075ff9f016a5",
   "metadata": {},
   "outputs": [
    {
     "name": "stdin",
     "output_type": "stream",
     "text": [
      "enter the number of employee: 5\n",
      "enter monthly salary for employee 1: 3000\n",
      "enter monthly salary for employee 2: 4000\n",
      "enter monthly salary for employee 3: 50000\n",
      "enter monthly salary for employee 4: 60000\n",
      "enter monthly salary for employee 5: 700000\n"
     ]
    },
    {
     "name": "stdout",
     "output_type": "stream",
     "text": [
      "number of employees earning more than 1 lakhs per annum: 3\n"
     ]
    }
   ],
   "source": [
    "# program to count the number of employees earning more than 1 lakh per annum, the monthly salaries of n number of employees are given \n",
    "n= int(input(\"enter the number of employee:\"))\n",
    "count=0\n",
    "for i in range(n):\n",
    "    mon_salary = float(input(\"enter monthly salary for employee {}:\".format(i+1)))\n",
    "    ann_salary = mon_salary * 12\n",
    "    if ann_salary > 100000:\n",
    "        count += 1\n",
    "print(\"number of employees earning more than 1 lakhs per annum:\",count)"
   ]
  },
  {
   "cell_type": "code",
   "execution_count": 14,
   "id": "35f47937-6085-4908-9a8c-82da2cb59d92",
   "metadata": {},
   "outputs": [
    {
     "name": "stdout",
     "output_type": "stream",
     "text": [
      "list after deleting even numbers: [1, 3, 5, 7, 9]\n"
     ]
    }
   ],
   "source": [
    "# program to create a list of numbers in the range 1 to 10. then delete all the even numbers from the list and print the final list \n",
    "numbers=list(range(1,11))\n",
    "filtered_numbers = [num for num in numbers if num % 2 != 0]\n",
    "print(\"list after deleting even numbers:\",filtered_numbers)"
   ]
  },
  {
   "cell_type": "code",
   "execution_count": 18,
   "id": "a5b58550-fe8e-4272-8632-279e62e48f56",
   "metadata": {},
   "outputs": [
    {
     "name": "stdin",
     "output_type": "stream",
     "text": [
      "enter no of items: 6\n"
     ]
    },
    {
     "name": "stdout",
     "output_type": "stream",
     "text": [
      "fibonacci series: [0, 1, 1, 2, 3, 5]\n",
      "sum of fibonacci series: 12\n"
     ]
    }
   ],
   "source": [
    "# write a program to generate in the fibonacci series and store it in a list, then find the sum of all values\n",
    "\n",
    "n=int(input(\"enter no of items:\"))\n",
    "fib_series=[]\n",
    "a,b=0,1\n",
    "for _ in range(n):\n",
    "    fib_series.append(a)\n",
    "    a,b=b,a+b\n",
    "print(\"fibonacci series:\",fib_series)\n",
    "print(\"sum of fibonacci series:\",sum(fib_series))"
   ]
  }
 ],
 "metadata": {
  "kernelspec": {
   "display_name": "Python 3 (ipykernel)",
   "language": "python",
   "name": "python3"
  },
  "language_info": {
   "codemirror_mode": {
    "name": "ipython",
    "version": 3
   },
   "file_extension": ".py",
   "mimetype": "text/x-python",
   "name": "python",
   "nbconvert_exporter": "python",
   "pygments_lexer": "ipython3",
   "version": "3.11.7"
  }
 },
 "nbformat": 4,
 "nbformat_minor": 5
}
